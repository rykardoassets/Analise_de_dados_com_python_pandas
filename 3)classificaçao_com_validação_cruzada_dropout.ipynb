{
  "nbformat": 4,
  "nbformat_minor": 0,
  "metadata": {
    "colab": {
      "provenance": [],
      "authorship_tag": "ABX9TyPxtyed0OxycP7Qpf9xezzZ",
      "include_colab_link": true
    },
    "kernelspec": {
      "name": "python3",
      "display_name": "Python 3"
    },
    "language_info": {
      "name": "python"
    }
  },
  "cells": [
    {
      "cell_type": "markdown",
      "metadata": {
        "id": "view-in-github",
        "colab_type": "text"
      },
      "source": [
        "<a href=\"https://colab.research.google.com/github/rykardoassets/Analise_de_dados_com_python_pandas/blob/main/3)classifica%C3%A7ao_com_valida%C3%A7%C3%A3o_cruzada_dropout.ipynb\" target=\"_parent\"><img src=\"https://colab.research.google.com/assets/colab-badge.svg\" alt=\"Open In Colab\"/></a>"
      ]
    },
    {
      "cell_type": "code",
      "execution_count": 13,
      "metadata": {
        "id": "8lMukwdn9UCn"
      },
      "outputs": [],
      "source": [
        "import pandas as pd\n",
        "import keras\n",
        "from keras.models import Sequential\n",
        "from keras.layers import Dense, Dropout\n",
        "\n",
        "\n",
        "\n",
        "#from keras.layers.serialization import activation\n",
        "\n"
      ]
    },
    {
      "cell_type": "code",
      "source": [
        "previsores = pd.read_csv('entradas_breast.csv')\n",
        "classe = pd.read_csv('saidas_breast.csv')"
      ],
      "metadata": {
        "id": "B4PX4GdLSnlj"
      },
      "execution_count": 3,
      "outputs": []
    },
    {
      "cell_type": "code",
      "source": [
        "from keras.wrappers.scikit_learn import KerasClassifier\n",
        "from sklearn.model_selection import cross_val_score"
      ],
      "metadata": {
        "id": "fNtB0tn6-uZC"
      },
      "execution_count": 4,
      "outputs": []
    },
    {
      "cell_type": "code",
      "source": [
        ", Dropout\n",
        "def criarRede():\n",
        "  classificador = Sequential()\n",
        "  classificador.add(Dense(units = 16, activation = 'relu', kernel_initializer= 'random_uniform', input_dim = 30))\n",
        "  classificador.add(Dropout(0.2))\n",
        "  classificador.add(Dense(units = 16, activation = 'relu', kernel_initializer= 'random_uniform'))\n",
        "  classificador.add(Dropout(0.2))\n",
        "  classificador.add(Dense(units = 1, activation = 'sigmoid'))\n",
        "  otimizador = keras.optimizers.Adam(lr= 0.001, decay=0.0001, clipvalue = 0.5)\n",
        "  classificador.compile(optimizer= otimizador, loss = 'binary_crossentropy', metrics = ['binary_accuracy'] )\n",
        "  return classificador"
      ],
      "metadata": {
        "id": "9DQPWSJ6-Ro4"
      },
      "execution_count": 14,
      "outputs": []
    },
    {
      "cell_type": "code",
      "source": [
        "classificador = KerasClassifier(build_fn= criarRede,\n",
        "                                epochs = 100,\n",
        "                                batch_size = 10)"
      ],
      "metadata": {
        "colab": {
          "base_uri": "https://localhost:8080/"
        },
        "id": "kdkW7Pj8VoCW",
        "outputId": "4a3fa07a-24be-441a-d103-22d1ffe4478a"
      },
      "execution_count": 15,
      "outputs": [
        {
          "output_type": "stream",
          "name": "stderr",
          "text": [
            "<ipython-input-15-5be8cb03bf65>:1: DeprecationWarning: KerasClassifier is deprecated, use Sci-Keras (https://github.com/adriangb/scikeras) instead. See https://www.adriangb.com/scikeras/stable/migration.html for help migrating.\n",
            "  classificador = KerasClassifier(build_fn= criarRede,\n"
          ]
        }
      ]
    },
    {
      "cell_type": "code",
      "source": [
        "resultados = cross_val_score(estimator= classificador,\n",
        "                             X = previsores,\n",
        "                             y = classe,\n",
        "                             cv = 10,\n",
        "                             scoring= 'accuracy')"
      ],
      "metadata": {
        "id": "OTmQq2_PWW4q"
      },
      "execution_count": null,
      "outputs": []
    },
    {
      "cell_type": "code",
      "source": [
        "resultados"
      ],
      "metadata": {
        "colab": {
          "base_uri": "https://localhost:8080/"
        },
        "id": "NQpYaga9XYg0",
        "outputId": "8e4890d3-4ce0-4ec7-f962-f544280bda01"
      },
      "execution_count": 17,
      "outputs": [
        {
          "output_type": "execute_result",
          "data": {
            "text/plain": [
              "array([0.70175439, 0.87719298, 0.92982456, 0.84210526, 0.84210526,\n",
              "       0.9122807 , 0.9122807 , 0.92982456, 0.84210526, 0.98214286])"
            ]
          },
          "metadata": {},
          "execution_count": 17
        }
      ]
    },
    {
      "cell_type": "code",
      "source": [
        "resultados.mean()"
      ],
      "metadata": {
        "colab": {
          "base_uri": "https://localhost:8080/"
        },
        "id": "7D9n4ftGXc3O",
        "outputId": "74a3c30e-2566-4ef0-858b-f5d617914059"
      },
      "execution_count": 18,
      "outputs": [
        {
          "output_type": "execute_result",
          "data": {
            "text/plain": [
              "0.8771616541353383"
            ]
          },
          "metadata": {},
          "execution_count": 18
        }
      ]
    },
    {
      "cell_type": "code",
      "source": [
        "desvio= resultados.std()\n",
        "desvio"
      ],
      "metadata": {
        "colab": {
          "base_uri": "https://localhost:8080/"
        },
        "id": "ngKgfxxEYHuF",
        "outputId": "3d561aca-e370-43af-9d40-c6e509223978"
      },
      "execution_count": 19,
      "outputs": [
        {
          "output_type": "execute_result",
          "data": {
            "text/plain": [
              "0.07313622491876458"
            ]
          },
          "metadata": {},
          "execution_count": 19
        }
      ]
    }
  ]
}