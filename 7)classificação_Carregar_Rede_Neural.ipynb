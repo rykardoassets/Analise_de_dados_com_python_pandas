{
  "nbformat": 4,
  "nbformat_minor": 0,
  "metadata": {
    "colab": {
      "provenance": [],
      "authorship_tag": "ABX9TyOXUJhP6mp+Ycdgf4b7r9iZ",
      "include_colab_link": true
    },
    "kernelspec": {
      "name": "python3",
      "display_name": "Python 3"
    },
    "language_info": {
      "name": "python"
    }
  },
  "cells": [
    {
      "cell_type": "markdown",
      "metadata": {
        "id": "view-in-github",
        "colab_type": "text"
      },
      "source": [
        "<a href=\"https://colab.research.google.com/github/rykardoassets/Analise_de_dados_com_python_pandas/blob/main/7)classifica%C3%A7%C3%A3o_Carregar_Rede_Neural.ipynb\" target=\"_parent\"><img src=\"https://colab.research.google.com/assets/colab-badge.svg\" alt=\"Open In Colab\"/></a>"
      ]
    },
    {
      "cell_type": "code",
      "execution_count": 47,
      "metadata": {
        "id": "8lMukwdn9UCn"
      },
      "outputs": [],
      "source": [
        "import pandas as pd\n",
        "import numpy as np\n",
        "from keras.models import model_from_json\n"
      ]
    },
    {
      "cell_type": "code",
      "source": [
        "arquivo = open('/content/classificador_breast.json', 'r')\n",
        "estrutura_rede = arquivo.read()\n",
        "arquivo.close()"
      ],
      "metadata": {
        "id": "-yvjQeIwBP2_"
      },
      "execution_count": 36,
      "outputs": []
    },
    {
      "cell_type": "code",
      "source": [
        "classificador = model_from_json(estrutura_rede)\n",
        "classificador.load_weights('/content/classificador_breast.h5')"
      ],
      "metadata": {
        "id": "GEa2pdGlB1Bc"
      },
      "execution_count": 39,
      "outputs": []
    },
    {
      "cell_type": "code",
      "source": [
        "novo = np.array([[15.80, 8.34, 118, 900,\n",
        "                  0.10, 0.26, 0.08, 0.134,\n",
        "                  0.178, 0.20, 0.05, 1098,\n",
        "                  0.87, 4500, 145.2, 0.005,\n",
        "                  0.04, 0.05, 0.015,\n",
        "                  0.03, 0.007, 23.15, 16.64,\n",
        "                  178.5, 2018, 0.14, 0.185,\n",
        "                  0.84, 158, 0.363]])"
      ],
      "metadata": {
        "id": "XdqVMQyuDH83"
      },
      "execution_count": 40,
      "outputs": []
    },
    {
      "cell_type": "code",
      "source": [
        "previsao = classificador.predict(novo)\n",
        "\n"
      ],
      "metadata": {
        "colab": {
          "base_uri": "https://localhost:8080/"
        },
        "id": "RrGeJ3dhDNTH",
        "outputId": "07225584-c36c-440f-d717-d2fef86a68f2"
      },
      "execution_count": 45,
      "outputs": [
        {
          "output_type": "stream",
          "name": "stdout",
          "text": [
            "1/1 [==============================] - 0s 31ms/step\n"
          ]
        }
      ]
    },
    {
      "cell_type": "code",
      "source": [
        "previsao"
      ],
      "metadata": {
        "colab": {
          "base_uri": "https://localhost:8080/"
        },
        "id": "ZhaCVacND7jx",
        "outputId": "661f067a-adf2-4d26-f66c-a8355b3a1cdf"
      },
      "execution_count": 46,
      "outputs": [
        {
          "output_type": "execute_result",
          "data": {
            "text/plain": [
              "array([[1.]], dtype=float32)"
            ]
          },
          "metadata": {},
          "execution_count": 46
        }
      ]
    },
    {
      "cell_type": "code",
      "source": [
        "previsao = previsao > 0.5\n",
        "previsao"
      ],
      "metadata": {
        "colab": {
          "base_uri": "https://localhost:8080/"
        },
        "id": "UYjvkHY7Dzpr",
        "outputId": "4ac012e7-9fb3-48d1-94df-aaf605cd7a5a"
      },
      "execution_count": 43,
      "outputs": [
        {
          "output_type": "execute_result",
          "data": {
            "text/plain": [
              "array([[ True]])"
            ]
          },
          "metadata": {},
          "execution_count": 43
        }
      ]
    },
    {
      "cell_type": "code",
      "source": [
        "previsores = pd.read_csv('entradas_breast.csv')\n",
        "classe = pd.read_csv('saidas_breast.csv')"
      ],
      "metadata": {
        "id": "amyzkuD-EWoI"
      },
      "execution_count": 48,
      "outputs": []
    },
    {
      "cell_type": "code",
      "source": [
        "classificador.compile(loss='binary_crossentropy', optimizer='adam', metrics=['binary_accuracy'])"
      ],
      "metadata": {
        "id": "isQG98KIEyhM"
      },
      "execution_count": 49,
      "outputs": []
    },
    {
      "cell_type": "code",
      "source": [
        "resultado = classificador.evaluate(previsores, classe)"
      ],
      "metadata": {
        "colab": {
          "base_uri": "https://localhost:8080/"
        },
        "id": "cM2CfbSiFtNE",
        "outputId": "b1b6cdb6-c3f8-471c-9485-d8c1c47d7440"
      },
      "execution_count": 50,
      "outputs": [
        {
          "output_type": "stream",
          "name": "stdout",
          "text": [
            "18/18 [==============================] - 0s 3ms/step - loss: 0.2022 - binary_accuracy: 0.9315\n"
          ]
        }
      ]
    },
    {
      "cell_type": "code",
      "source": [
        "resultado"
      ],
      "metadata": {
        "colab": {
          "base_uri": "https://localhost:8080/"
        },
        "id": "kHlK17KDF_hL",
        "outputId": "30722f7d-a1df-4b14-eb3f-b2c72c706130"
      },
      "execution_count": 51,
      "outputs": [
        {
          "output_type": "execute_result",
          "data": {
            "text/plain": [
              "[0.20221827924251556, 0.9314587116241455]"
            ]
          },
          "metadata": {},
          "execution_count": 51
        }
      ]
    },
    {
      "cell_type": "code",
      "source": [],
      "metadata": {
        "id": "kCwK4xMmGBEN"
      },
      "execution_count": null,
      "outputs": []
    }
  ]
}