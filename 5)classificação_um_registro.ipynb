{
  "nbformat": 4,
  "nbformat_minor": 0,
  "metadata": {
    "colab": {
      "provenance": [],
      "authorship_tag": "ABX9TyODBovx071L50bjjdwzIlTw",
      "include_colab_link": true
    },
    "kernelspec": {
      "name": "python3",
      "display_name": "Python 3"
    },
    "language_info": {
      "name": "python"
    }
  },
  "cells": [
    {
      "cell_type": "markdown",
      "metadata": {
        "id": "view-in-github",
        "colab_type": "text"
      },
      "source": [
        "<a href=\"https://colab.research.google.com/github/rykardoassets/Analise_de_dados_com_python_pandas/blob/main/5)classifica%C3%A7%C3%A3o_um_registro.ipynb\" target=\"_parent\"><img src=\"https://colab.research.google.com/assets/colab-badge.svg\" alt=\"Open In Colab\"/></a>"
      ]
    },
    {
      "cell_type": "code",
      "execution_count": 19,
      "metadata": {
        "id": "8lMukwdn9UCn"
      },
      "outputs": [],
      "source": [
        "import pandas as pd\n",
        "import numpy as np\n",
        "import keras\n",
        "from keras.models import Sequential\n",
        "from keras.layers import Dense, Dropout\n",
        "from keras.wrappers.scikit_learn import KerasClassifier\n",
        "from sklearn.model_selection import GridSearchCV"
      ]
    },
    {
      "cell_type": "code",
      "source": [
        "previsores = pd.read_csv('entradas_breast.csv')\n",
        "classe = pd.read_csv('saidas_breast.csv')"
      ],
      "metadata": {
        "id": "B4PX4GdLSnlj"
      },
      "execution_count": 15,
      "outputs": []
    },
    {
      "cell_type": "code",
      "source": [
        "classificador = Sequential()\n",
        "classificador.add(Dense(units = 8, activation = 'relu', kernel_initializer= 'random_uniform', input_dim = 30))\n",
        "classificador.add(Dropout(0.2))\n",
        "classificador.add(Dense(units = 8, activation = 'relu', kernel_initializer= 'random_uniform'))\n",
        "classificador.add(Dropout(0.2))\n",
        "classificador.add(Dense(units = 1, activation = 'sigmoid'))\n",
        "classificador.compile(optimizer= 'adam', loss = 'binary_crossentropy', metrics = ['binary_accuracy'] )\n",
        ""
      ],
      "metadata": {
        "id": "9DQPWSJ6-Ro4"
      },
      "execution_count": 16,
      "outputs": []
    },
    {
      "cell_type": "code",
      "source": [
        "classificador = KerasClassifier(build_fn=criarRede)"
      ],
      "metadata": {
        "colab": {
          "base_uri": "https://localhost:8080/"
        },
        "id": "6CsWPhjV87XG",
        "outputId": "2e51d229-2381-4a5a-bcf8-518d103eb00e"
      },
      "execution_count": 11,
      "outputs": [
        {
          "output_type": "stream",
          "name": "stderr",
          "text": [
            "<ipython-input-11-69a80c597961>:1: DeprecationWarning: KerasClassifier is deprecated, use Sci-Keras (https://github.com/adriangb/scikeras) instead. See https://www.adriangb.com/scikeras/stable/migration.html for help migrating.\n",
            "  classificador = KerasClassifier(build_fn=criarRede)\n"
          ]
        }
      ]
    },
    {
      "cell_type": "code",
      "source": [
        "parametros = {\n",
        "    'batch_size': [10, 30],\n",
        "    'epochs'    : [50, 100],\n",
        "    'optimizer' : ['adam', 'sgd'],\n",
        "    'loos'      : ['binary_crossentropy', 'hinge'],\n",
        "    'kernel_initializer': ['random_uniform', 'normal'],\n",
        "    'activation': ['relu', 'tanh'],\n",
        "    'neurons'   : [16, 8]\n",
        "}"
      ],
      "metadata": {
        "id": "hwVN9sIN-Qk-"
      },
      "execution_count": 6,
      "outputs": []
    },
    {
      "cell_type": "code",
      "source": [
        "classificador.fit(previsores, classe, batch_size = 10, epochs = 100)"
      ],
      "metadata": {
        "id": "dlsjGlX-1g5i"
      },
      "execution_count": null,
      "outputs": []
    },
    {
      "cell_type": "code",
      "source": [
        "novo = np.array([[15.80, 8.34, 118, 900,\n",
        "                  0.10, 0.26, 0.08, 0.134,\n",
        "                  0.178, 0.20, 0.05, 1098,\n",
        "                  0.87, 4500, 145.2, 0.005,\n",
        "                  0.04, 0.05, 0.015,\n",
        "                  0.03, 0.007, 23.15, 16.64,\n",
        "                  178.5, 2018, 0.14, 0.185,\n",
        "                  0.84, 158, 0.363]])"
      ],
      "metadata": {
        "id": "_zu1j8za2ZmK"
      },
      "execution_count": 20,
      "outputs": []
    },
    {
      "cell_type": "code",
      "source": [
        "novo.size"
      ],
      "metadata": {
        "colab": {
          "base_uri": "https://localhost:8080/"
        },
        "id": "5MOkR2qB3qRD",
        "outputId": "9e76e191-857d-4ff3-c7d4-a6b6f39ade32"
      },
      "execution_count": 22,
      "outputs": [
        {
          "output_type": "execute_result",
          "data": {
            "text/plain": [
              "30"
            ]
          },
          "metadata": {},
          "execution_count": 22
        }
      ]
    },
    {
      "cell_type": "code",
      "source": [
        "previsao = classificador.predict(novo)"
      ],
      "metadata": {
        "colab": {
          "base_uri": "https://localhost:8080/"
        },
        "id": "fu031AWH5nna",
        "outputId": "6a598f63-0a69-4083-ada2-ca7da68c6745"
      },
      "execution_count": 24,
      "outputs": [
        {
          "output_type": "stream",
          "name": "stdout",
          "text": [
            "1/1 [==============================] - 0s 93ms/step\n"
          ]
        }
      ]
    },
    {
      "cell_type": "code",
      "source": [
        "previsao"
      ],
      "metadata": {
        "colab": {
          "base_uri": "https://localhost:8080/"
        },
        "id": "3SO8AmhU51WN",
        "outputId": "7a476d3f-8ab7-4f46-d772-55b0b3856f17"
      },
      "execution_count": 25,
      "outputs": [
        {
          "output_type": "execute_result",
          "data": {
            "text/plain": [
              "array([[0.90606517]], dtype=float32)"
            ]
          },
          "metadata": {},
          "execution_count": 25
        }
      ]
    },
    {
      "cell_type": "code",
      "source": [
        "previsao = previsao > 0.5"
      ],
      "metadata": {
        "id": "6jcMvD2p6OcU"
      },
      "execution_count": 26,
      "outputs": []
    },
    {
      "cell_type": "code",
      "source": [
        "previsao"
      ],
      "metadata": {
        "colab": {
          "base_uri": "https://localhost:8080/"
        },
        "id": "HyHgqjal6AJQ",
        "outputId": "be7028af-f674-47a9-9034-033799badfda"
      },
      "execution_count": 27,
      "outputs": [
        {
          "output_type": "execute_result",
          "data": {
            "text/plain": [
              "array([[ True]])"
            ]
          },
          "metadata": {},
          "execution_count": 27
        }
      ]
    }
  ]
}