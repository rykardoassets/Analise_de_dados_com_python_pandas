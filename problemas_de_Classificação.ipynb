{
  "nbformat": 4,
  "nbformat_minor": 0,
  "metadata": {
    "colab": {
      "provenance": [],
      "authorship_tag": "ABX9TyPTrz/KIIYEAwY1IV4BMzhd",
      "include_colab_link": true
    },
    "kernelspec": {
      "name": "python3",
      "display_name": "Python 3"
    },
    "language_info": {
      "name": "python"
    }
  },
  "cells": [
    {
      "cell_type": "markdown",
      "metadata": {
        "id": "view-in-github",
        "colab_type": "text"
      },
      "source": [
        "<a href=\"https://colab.research.google.com/github/rykardoassets/Analise_de_dados_com_python_pandas/blob/main/problemas_de_Classifica%C3%A7%C3%A3o.ipynb\" target=\"_parent\"><img src=\"https://colab.research.google.com/assets/colab-badge.svg\" alt=\"Open In Colab\"/></a>"
      ]
    },
    {
      "cell_type": "code",
      "execution_count": null,
      "metadata": {
        "id": "u5nSJO2P2f4k"
      },
      "outputs": [],
      "source": [
        "import pandas as pd\n",
        "\n",
        "#armazenando dados csv nas variaveis previsores e classe\n",
        "previsores = pd.read_csv(\"entradas_breast.csv\")\n",
        "classe = pd.read_csv('saidas_breast.csv')"
      ]
    },
    {
      "cell_type": "code",
      "source": [
        "#Biblioteca para dividir a base de dados em treino e teste\n",
        "from sklearn.model_selection import train_test_split"
      ],
      "metadata": {
        "id": "qJQ7e-fc3vxn"
      },
      "execution_count": null,
      "outputs": []
    },
    {
      "cell_type": "code",
      "source": [
        "previsores_treinamento, previsores_teste, classe_treinamento, classe_teste = train_test_split(previsores, classe, test_size=0.25)"
      ],
      "metadata": {
        "id": "RMJCUDH54Fby"
      },
      "execution_count": null,
      "outputs": []
    },
    {
      "cell_type": "code",
      "source": [
        "previsores_treinamento.shape,previsores_teste.shape,classe_treinamento.shape, classe_teste.shape"
      ],
      "metadata": {
        "colab": {
          "base_uri": "https://localhost:8080/"
        },
        "id": "saTOAoQL50PM",
        "outputId": "0dd26ff5-ffde-4bef-cbc1-bdc0a3a038fd"
      },
      "execution_count": null,
      "outputs": [
        {
          "output_type": "execute_result",
          "data": {
            "text/plain": [
              "((426, 30), (143, 30), (426, 1), (143, 1))"
            ]
          },
          "metadata": {},
          "execution_count": 4
        }
      ]
    },
    {
      "cell_type": "code",
      "source": [
        "import keras\n",
        "from keras.models import Sequential\n",
        "from keras.layers import Dense\n",
        "from keras.layers.serialization import activation"
      ],
      "metadata": {
        "id": "T2YkCDFv54ip"
      },
      "execution_count": null,
      "outputs": []
    },
    {
      "cell_type": "code",
      "source": [
        "classificador = Sequential()\n",
        "classificador.add(Dense(units = 16, activation = 'relu', kernel_initializer= 'random_uniform', input_dim = 30))\n",
        "classificador.add(Dense(units = 16, activation = 'relu', kernel_initializer= 'random_uniform'))\n",
        "classificador.add(Dense(units = 1, activation = 'sigmoid'))\n"
      ],
      "metadata": {
        "id": "HoU_tsSP7uhn"
      },
      "execution_count": null,
      "outputs": []
    },
    {
      "cell_type": "code",
      "source": [
        "otimizador = keras.optimizers.Adam(lr= 0.001, decay=0.0001, clipvalue = 0.5)\n",
        "otimizador"
      ],
      "metadata": {
        "colab": {
          "base_uri": "https://localhost:8080/"
        },
        "id": "XpS2saCWxnHG",
        "outputId": "20d7a3eb-e7a5-4e83-8818-57bc0db948c6"
      },
      "execution_count": null,
      "outputs": [
        {
          "output_type": "stream",
          "name": "stderr",
          "text": [
            "/usr/local/lib/python3.10/dist-packages/keras/optimizers/legacy/adam.py:117: UserWarning: The `lr` argument is deprecated, use `learning_rate` instead.\n",
            "  super().__init__(name, **kwargs)\n"
          ]
        },
        {
          "output_type": "execute_result",
          "data": {
            "text/plain": [
              "<keras.optimizers.legacy.adam.Adam at 0x7a108ef94e80>"
            ]
          },
          "metadata": {},
          "execution_count": 25
        }
      ]
    },
    {
      "cell_type": "code",
      "source": [
        "classificador.compile(optimizer= otimizador, loss = 'binary_crossentropy', metrics = ['binary_accuracy'] )"
      ],
      "metadata": {
        "id": "WmsJorZmyYOr"
      },
      "execution_count": null,
      "outputs": []
    },
    {
      "cell_type": "code",
      "source": [
        "#classificador.compile(optimizer= 'adam', loss = 'binary_crossentropy', metrics = ['binary_accuracy'] )\n",
        "classificador.fit(previsores_treinamento, classe_treinamento, batch_size= 10, epochs = 100)"
      ],
      "metadata": {
        "id": "6CTkIHBUw87H"
      },
      "execution_count": null,
      "outputs": []
    },
    {
      "cell_type": "code",
      "source": [
        "pesos0 = classificador.layers[0].get_weights()"
      ],
      "metadata": {
        "id": "MCViSvFK0CL7"
      },
      "execution_count": null,
      "outputs": []
    },
    {
      "cell_type": "code",
      "source": [
        "pesos0"
      ],
      "metadata": {
        "id": "9bSrcBZp0ct7"
      },
      "execution_count": null,
      "outputs": []
    },
    {
      "cell_type": "code",
      "source": [
        "len(pesos0)"
      ],
      "metadata": {
        "colab": {
          "base_uri": "https://localhost:8080/"
        },
        "id": "7avye2Ja1JYn",
        "outputId": "bb6289b5-7641-404d-9c0f-69b1b49223fa"
      },
      "execution_count": null,
      "outputs": [
        {
          "output_type": "execute_result",
          "data": {
            "text/plain": [
              "2"
            ]
          },
          "metadata": {},
          "execution_count": 33
        }
      ]
    },
    {
      "cell_type": "code",
      "source": [
        "pesos1 = classificador.layers[1].get_weights()"
      ],
      "metadata": {
        "id": "PLv2Tz_01iOA"
      },
      "execution_count": null,
      "outputs": []
    },
    {
      "cell_type": "code",
      "source": [
        "print(pesos1)"
      ],
      "metadata": {
        "id": "Q6ly9k2717xi"
      },
      "execution_count": null,
      "outputs": []
    },
    {
      "cell_type": "code",
      "source": [
        "pesos2 = classificador.layers[2].get_weights()"
      ],
      "metadata": {
        "id": "lq171BH72lif"
      },
      "execution_count": null,
      "outputs": []
    },
    {
      "cell_type": "code",
      "source": [
        "len(pesos2)"
      ],
      "metadata": {
        "colab": {
          "base_uri": "https://localhost:8080/"
        },
        "id": "WWVnmP8b2pd0",
        "outputId": "cf371479-29c7-44ca-b06b-b9706ce83b44"
      },
      "execution_count": null,
      "outputs": [
        {
          "output_type": "execute_result",
          "data": {
            "text/plain": [
              "2"
            ]
          },
          "metadata": {},
          "execution_count": 40
        }
      ]
    },
    {
      "cell_type": "code",
      "source": [
        "previsoes = classificador.predict(previsores_teste)"
      ],
      "metadata": {
        "colab": {
          "base_uri": "https://localhost:8080/"
        },
        "id": "jgUKU83grBYE",
        "outputId": "37c18fea-0ba3-44ee-da3b-e53af830a89d"
      },
      "execution_count": null,
      "outputs": [
        {
          "output_type": "stream",
          "name": "stdout",
          "text": [
            "5/5 [==============================] - 0s 3ms/step\n"
          ]
        }
      ]
    },
    {
      "cell_type": "code",
      "source": [
        "previsoes.shape"
      ],
      "metadata": {
        "colab": {
          "base_uri": "https://localhost:8080/"
        },
        "id": "1YEz8RJUrO56",
        "outputId": "e31d556d-b878-4c05-f1f2-d4bc69949b3a"
      },
      "execution_count": null,
      "outputs": [
        {
          "output_type": "execute_result",
          "data": {
            "text/plain": [
              "(143, 1)"
            ]
          },
          "metadata": {},
          "execution_count": 11
        }
      ]
    },
    {
      "cell_type": "code",
      "source": [
        "previsoes"
      ],
      "metadata": {
        "id": "s2kC3HwvrS6Q"
      },
      "execution_count": null,
      "outputs": []
    },
    {
      "cell_type": "code",
      "source": [
        "previsoes = (previsoes > 0.5)"
      ],
      "metadata": {
        "id": "UlwdJp5drcty"
      },
      "execution_count": null,
      "outputs": []
    },
    {
      "cell_type": "code",
      "source": [
        "previsoes"
      ],
      "metadata": {
        "id": "K5EV_-t7sJJa"
      },
      "execution_count": null,
      "outputs": []
    },
    {
      "cell_type": "code",
      "source": [
        "from  sklearn.metrics import confusion_matrix, accuracy_score"
      ],
      "metadata": {
        "id": "WIQuuJ_jsRM8"
      },
      "execution_count": null,
      "outputs": []
    },
    {
      "cell_type": "code",
      "source": [
        "precisao = accuracy_score(classe_teste, previsoes)"
      ],
      "metadata": {
        "id": "6sgwPokesqeT"
      },
      "execution_count": null,
      "outputs": []
    },
    {
      "cell_type": "code",
      "source": [
        "precisao"
      ],
      "metadata": {
        "colab": {
          "base_uri": "https://localhost:8080/"
        },
        "id": "3ZR6m516s7Cj",
        "outputId": "b62fdadc-5ddd-47ea-c107-10910edf7665"
      },
      "execution_count": null,
      "outputs": [
        {
          "output_type": "execute_result",
          "data": {
            "text/plain": [
              "0.8811188811188811"
            ]
          },
          "metadata": {},
          "execution_count": 17
        }
      ]
    },
    {
      "cell_type": "code",
      "source": [
        "matriz = confusion_matrix(classe_teste, previsoes)"
      ],
      "metadata": {
        "id": "jSK6TlWfs8Yx"
      },
      "execution_count": null,
      "outputs": []
    },
    {
      "cell_type": "code",
      "source": [
        "matriz.shape"
      ],
      "metadata": {
        "colab": {
          "base_uri": "https://localhost:8080/"
        },
        "id": "5f9EswL4tO-s",
        "outputId": "8b6d7353-2ff7-4955-abc3-fed1369b7b55"
      },
      "execution_count": null,
      "outputs": [
        {
          "output_type": "execute_result",
          "data": {
            "text/plain": [
              "(2, 2)"
            ]
          },
          "metadata": {},
          "execution_count": 19
        }
      ]
    },
    {
      "cell_type": "code",
      "source": [
        "matriz"
      ],
      "metadata": {
        "colab": {
          "base_uri": "https://localhost:8080/"
        },
        "id": "Tn1IWHAOtUPl",
        "outputId": "c7a45fb4-2264-4cd1-c917-da7ddfc7f976"
      },
      "execution_count": null,
      "outputs": [
        {
          "output_type": "execute_result",
          "data": {
            "text/plain": [
              "array([[38,  5],\n",
              "       [12, 88]])"
            ]
          },
          "metadata": {},
          "execution_count": 20
        }
      ]
    },
    {
      "cell_type": "markdown",
      "source": [
        "#Utilizando o Keras"
      ],
      "metadata": {
        "id": "bu-TXapyuktL"
      }
    },
    {
      "cell_type": "code",
      "source": [
        "resultado = classificador.evaluate(previsores_teste, classe_teste)"
      ],
      "metadata": {
        "colab": {
          "base_uri": "https://localhost:8080/"
        },
        "id": "Lmy6cxs_tYWt",
        "outputId": "46c01088-ed64-4e45-9934-4e69520dd2a5"
      },
      "execution_count": null,
      "outputs": [
        {
          "output_type": "stream",
          "name": "stdout",
          "text": [
            "5/5 [==============================] - 0s 5ms/step - loss: 4.0659 - binary_accuracy: 0.6084\n"
          ]
        }
      ]
    },
    {
      "cell_type": "code",
      "source": [
        "resultado"
      ],
      "metadata": {
        "colab": {
          "base_uri": "https://localhost:8080/"
        },
        "id": "xITKOHjmuAR3",
        "outputId": "45923013-b9cd-40e9-f42d-00ce3902e8ad"
      },
      "execution_count": null,
      "outputs": [
        {
          "output_type": "execute_result",
          "data": {
            "text/plain": [
              "[0.5634340643882751, 0.881118893623352]"
            ]
          },
          "metadata": {},
          "execution_count": 22
        }
      ]
    },
    {
      "cell_type": "code",
      "source": [],
      "metadata": {
        "id": "z77CakoBuSNw"
      },
      "execution_count": null,
      "outputs": []
    }
  ]
}