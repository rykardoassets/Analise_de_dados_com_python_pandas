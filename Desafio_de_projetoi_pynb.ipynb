{
  "nbformat": 4,
  "nbformat_minor": 0,
  "metadata": {
    "colab": {
      "provenance": [],
      "collapsed_sections": []
    },
    "kernelspec": {
      "name": "python3",
      "display_name": "Python 3"
    },
    "language_info": {
      "name": "python"
    }
  },
  "cells": [
    {
      "cell_type": "code",
      "execution_count": 2,
      "metadata": {
        "id": "JC77Y59LUGY1"
      },
      "outputs": [],
      "source": [
        "#Importando as bibliotecas\n",
        "import pandas as pd\n",
        "import matplotlib.pyplot as plt\n",
        "plt.style.use(\"seaborn\")"
      ]
    },
    {
      "cell_type": "code",
      "source": [
        "#O dataset foi carregado da pasta local para o colab através da opção upload.\n",
        "#criando o DataFrame.\n",
        "df = pd.read_csv(\"/content/Data_Science_Fields_Salary_Categorization.csv\")"
      ],
      "metadata": {
        "id": "IbAshNKKah-b"
      },
      "execution_count": 3,
      "outputs": []
    },
    {
      "cell_type": "code",
      "source": [
        "#Visualizando as 5 primeiras linhas\n",
        "df.head()"
      ],
      "metadata": {
        "colab": {
          "base_uri": "https://localhost:8080/",
          "height": 392
        },
        "id": "aN1wGc8obM4p",
        "outputId": "3fec1148-5117-4d95-b4b1-166d3c80e18e"
      },
      "execution_count": 4,
      "outputs": [
        {
          "output_type": "execute_result",
          "data": {
            "text/plain": [
              "   Unnamed: 0  Working_Year                 Designation Experience  \\\n",
              "0           1          2020              Data Scientist         MI   \n",
              "1           2          2020  Machine Learning Scientist         SE   \n",
              "2           3          2020           Big Data Engineer         SE   \n",
              "3           4          2020        Product Data Analyst         MI   \n",
              "4           5          2020   Machine Learning Engineer         SE   \n",
              "\n",
              "  Employment_Status Salary_In_Rupees Employee_Location Company_Location  \\\n",
              "0                FT     6,352,272.00                DE               DE   \n",
              "1                FT    20,688,070.00                JP               JP   \n",
              "2                FT     8,674,985.00                GB               GB   \n",
              "3                FT     1,591,390.00                HN               HN   \n",
              "4                FT    11,935,425.00                US               US   \n",
              "\n",
              "  Company_Size  Remote_Working_Ratio  \n",
              "0            L                     0  \n",
              "1            S                     0  \n",
              "2            M                    50  \n",
              "3            S                     0  \n",
              "4            L                    50  "
            ],
            "text/html": [
              "\n",
              "  <div id=\"df-3726f7d8-700e-4e5e-9d62-2cc9ba37e913\">\n",
              "    <div class=\"colab-df-container\">\n",
              "      <div>\n",
              "<style scoped>\n",
              "    .dataframe tbody tr th:only-of-type {\n",
              "        vertical-align: middle;\n",
              "    }\n",
              "\n",
              "    .dataframe tbody tr th {\n",
              "        vertical-align: top;\n",
              "    }\n",
              "\n",
              "    .dataframe thead th {\n",
              "        text-align: right;\n",
              "    }\n",
              "</style>\n",
              "<table border=\"1\" class=\"dataframe\">\n",
              "  <thead>\n",
              "    <tr style=\"text-align: right;\">\n",
              "      <th></th>\n",
              "      <th>Unnamed: 0</th>\n",
              "      <th>Working_Year</th>\n",
              "      <th>Designation</th>\n",
              "      <th>Experience</th>\n",
              "      <th>Employment_Status</th>\n",
              "      <th>Salary_In_Rupees</th>\n",
              "      <th>Employee_Location</th>\n",
              "      <th>Company_Location</th>\n",
              "      <th>Company_Size</th>\n",
              "      <th>Remote_Working_Ratio</th>\n",
              "    </tr>\n",
              "  </thead>\n",
              "  <tbody>\n",
              "    <tr>\n",
              "      <th>0</th>\n",
              "      <td>1</td>\n",
              "      <td>2020</td>\n",
              "      <td>Data Scientist</td>\n",
              "      <td>MI</td>\n",
              "      <td>FT</td>\n",
              "      <td>6,352,272.00</td>\n",
              "      <td>DE</td>\n",
              "      <td>DE</td>\n",
              "      <td>L</td>\n",
              "      <td>0</td>\n",
              "    </tr>\n",
              "    <tr>\n",
              "      <th>1</th>\n",
              "      <td>2</td>\n",
              "      <td>2020</td>\n",
              "      <td>Machine Learning Scientist</td>\n",
              "      <td>SE</td>\n",
              "      <td>FT</td>\n",
              "      <td>20,688,070.00</td>\n",
              "      <td>JP</td>\n",
              "      <td>JP</td>\n",
              "      <td>S</td>\n",
              "      <td>0</td>\n",
              "    </tr>\n",
              "    <tr>\n",
              "      <th>2</th>\n",
              "      <td>3</td>\n",
              "      <td>2020</td>\n",
              "      <td>Big Data Engineer</td>\n",
              "      <td>SE</td>\n",
              "      <td>FT</td>\n",
              "      <td>8,674,985.00</td>\n",
              "      <td>GB</td>\n",
              "      <td>GB</td>\n",
              "      <td>M</td>\n",
              "      <td>50</td>\n",
              "    </tr>\n",
              "    <tr>\n",
              "      <th>3</th>\n",
              "      <td>4</td>\n",
              "      <td>2020</td>\n",
              "      <td>Product Data Analyst</td>\n",
              "      <td>MI</td>\n",
              "      <td>FT</td>\n",
              "      <td>1,591,390.00</td>\n",
              "      <td>HN</td>\n",
              "      <td>HN</td>\n",
              "      <td>S</td>\n",
              "      <td>0</td>\n",
              "    </tr>\n",
              "    <tr>\n",
              "      <th>4</th>\n",
              "      <td>5</td>\n",
              "      <td>2020</td>\n",
              "      <td>Machine Learning Engineer</td>\n",
              "      <td>SE</td>\n",
              "      <td>FT</td>\n",
              "      <td>11,935,425.00</td>\n",
              "      <td>US</td>\n",
              "      <td>US</td>\n",
              "      <td>L</td>\n",
              "      <td>50</td>\n",
              "    </tr>\n",
              "  </tbody>\n",
              "</table>\n",
              "</div>\n",
              "      <button class=\"colab-df-convert\" onclick=\"convertToInteractive('df-3726f7d8-700e-4e5e-9d62-2cc9ba37e913')\"\n",
              "              title=\"Convert this dataframe to an interactive table.\"\n",
              "              style=\"display:none;\">\n",
              "        \n",
              "  <svg xmlns=\"http://www.w3.org/2000/svg\" height=\"24px\"viewBox=\"0 0 24 24\"\n",
              "       width=\"24px\">\n",
              "    <path d=\"M0 0h24v24H0V0z\" fill=\"none\"/>\n",
              "    <path d=\"M18.56 5.44l.94 2.06.94-2.06 2.06-.94-2.06-.94-.94-2.06-.94 2.06-2.06.94zm-11 1L8.5 8.5l.94-2.06 2.06-.94-2.06-.94L8.5 2.5l-.94 2.06-2.06.94zm10 10l.94 2.06.94-2.06 2.06-.94-2.06-.94-.94-2.06-.94 2.06-2.06.94z\"/><path d=\"M17.41 7.96l-1.37-1.37c-.4-.4-.92-.59-1.43-.59-.52 0-1.04.2-1.43.59L10.3 9.45l-7.72 7.72c-.78.78-.78 2.05 0 2.83L4 21.41c.39.39.9.59 1.41.59.51 0 1.02-.2 1.41-.59l7.78-7.78 2.81-2.81c.8-.78.8-2.07 0-2.86zM5.41 20L4 18.59l7.72-7.72 1.47 1.35L5.41 20z\"/>\n",
              "  </svg>\n",
              "      </button>\n",
              "      \n",
              "  <style>\n",
              "    .colab-df-container {\n",
              "      display:flex;\n",
              "      flex-wrap:wrap;\n",
              "      gap: 12px;\n",
              "    }\n",
              "\n",
              "    .colab-df-convert {\n",
              "      background-color: #E8F0FE;\n",
              "      border: none;\n",
              "      border-radius: 50%;\n",
              "      cursor: pointer;\n",
              "      display: none;\n",
              "      fill: #1967D2;\n",
              "      height: 32px;\n",
              "      padding: 0 0 0 0;\n",
              "      width: 32px;\n",
              "    }\n",
              "\n",
              "    .colab-df-convert:hover {\n",
              "      background-color: #E2EBFA;\n",
              "      box-shadow: 0px 1px 2px rgba(60, 64, 67, 0.3), 0px 1px 3px 1px rgba(60, 64, 67, 0.15);\n",
              "      fill: #174EA6;\n",
              "    }\n",
              "\n",
              "    [theme=dark] .colab-df-convert {\n",
              "      background-color: #3B4455;\n",
              "      fill: #D2E3FC;\n",
              "    }\n",
              "\n",
              "    [theme=dark] .colab-df-convert:hover {\n",
              "      background-color: #434B5C;\n",
              "      box-shadow: 0px 1px 3px 1px rgba(0, 0, 0, 0.15);\n",
              "      filter: drop-shadow(0px 1px 2px rgba(0, 0, 0, 0.3));\n",
              "      fill: #FFFFFF;\n",
              "    }\n",
              "  </style>\n",
              "\n",
              "      <script>\n",
              "        const buttonEl =\n",
              "          document.querySelector('#df-3726f7d8-700e-4e5e-9d62-2cc9ba37e913 button.colab-df-convert');\n",
              "        buttonEl.style.display =\n",
              "          google.colab.kernel.accessAllowed ? 'block' : 'none';\n",
              "\n",
              "        async function convertToInteractive(key) {\n",
              "          const element = document.querySelector('#df-3726f7d8-700e-4e5e-9d62-2cc9ba37e913');\n",
              "          const dataTable =\n",
              "            await google.colab.kernel.invokeFunction('convertToInteractive',\n",
              "                                                     [key], {});\n",
              "          if (!dataTable) return;\n",
              "\n",
              "          const docLinkHtml = 'Like what you see? Visit the ' +\n",
              "            '<a target=\"_blank\" href=https://colab.research.google.com/notebooks/data_table.ipynb>data table notebook</a>'\n",
              "            + ' to learn more about interactive tables.';\n",
              "          element.innerHTML = '';\n",
              "          dataTable['output_type'] = 'display_data';\n",
              "          await google.colab.output.renderOutput(dataTable, element);\n",
              "          const docLink = document.createElement('div');\n",
              "          docLink.innerHTML = docLinkHtml;\n",
              "          element.appendChild(docLink);\n",
              "        }\n",
              "      </script>\n",
              "    </div>\n",
              "  </div>\n",
              "  "
            ]
          },
          "metadata": {},
          "execution_count": 4
        }
      ]
    },
    {
      "cell_type": "code",
      "source": [
        "df.sample(5)"
      ],
      "metadata": {
        "colab": {
          "base_uri": "https://localhost:8080/",
          "height": 305
        },
        "id": "Hyytmy7TiiWW",
        "outputId": "9f06e426-9d3c-4620-ac27-4c49b01b13ae"
      },
      "execution_count": 5,
      "outputs": [
        {
          "output_type": "execute_result",
          "data": {
            "text/plain": [
              "     Unnamed: 0  Working_Year           Designation Experience  \\\n",
              "326         327          2022          Data Analyst         EX   \n",
              "193         194          2021  Data Science Manager         SE   \n",
              "291         292          2022          Data Analyst         SE   \n",
              "586         587          2022          Data Analyst         MI   \n",
              "391         392          2022          AI Scientist         MI   \n",
              "\n",
              "    Employment_Status Salary_In_Rupees Employee_Location Company_Location  \\\n",
              "326                FT    10,344,035.00                US               US   \n",
              "193                FT    13,845,093.00                US               US   \n",
              "291                FT     9,596,082.00                US               US   \n",
              "586                FT     3,644,840.00                GB               GB   \n",
              "391                FT     9,548,340.00                US               US   \n",
              "\n",
              "    Company_Size  Remote_Working_Ratio  \n",
              "326            M                   100  \n",
              "193            L                   100  \n",
              "291            M                   100  \n",
              "586            M                     0  \n",
              "391            M                     0  "
            ],
            "text/html": [
              "\n",
              "  <div id=\"df-cdc00bfb-85cc-449c-9cfe-d1806d474e9c\">\n",
              "    <div class=\"colab-df-container\">\n",
              "      <div>\n",
              "<style scoped>\n",
              "    .dataframe tbody tr th:only-of-type {\n",
              "        vertical-align: middle;\n",
              "    }\n",
              "\n",
              "    .dataframe tbody tr th {\n",
              "        vertical-align: top;\n",
              "    }\n",
              "\n",
              "    .dataframe thead th {\n",
              "        text-align: right;\n",
              "    }\n",
              "</style>\n",
              "<table border=\"1\" class=\"dataframe\">\n",
              "  <thead>\n",
              "    <tr style=\"text-align: right;\">\n",
              "      <th></th>\n",
              "      <th>Unnamed: 0</th>\n",
              "      <th>Working_Year</th>\n",
              "      <th>Designation</th>\n",
              "      <th>Experience</th>\n",
              "      <th>Employment_Status</th>\n",
              "      <th>Salary_In_Rupees</th>\n",
              "      <th>Employee_Location</th>\n",
              "      <th>Company_Location</th>\n",
              "      <th>Company_Size</th>\n",
              "      <th>Remote_Working_Ratio</th>\n",
              "    </tr>\n",
              "  </thead>\n",
              "  <tbody>\n",
              "    <tr>\n",
              "      <th>326</th>\n",
              "      <td>327</td>\n",
              "      <td>2022</td>\n",
              "      <td>Data Analyst</td>\n",
              "      <td>EX</td>\n",
              "      <td>FT</td>\n",
              "      <td>10,344,035.00</td>\n",
              "      <td>US</td>\n",
              "      <td>US</td>\n",
              "      <td>M</td>\n",
              "      <td>100</td>\n",
              "    </tr>\n",
              "    <tr>\n",
              "      <th>193</th>\n",
              "      <td>194</td>\n",
              "      <td>2021</td>\n",
              "      <td>Data Science Manager</td>\n",
              "      <td>SE</td>\n",
              "      <td>FT</td>\n",
              "      <td>13,845,093.00</td>\n",
              "      <td>US</td>\n",
              "      <td>US</td>\n",
              "      <td>L</td>\n",
              "      <td>100</td>\n",
              "    </tr>\n",
              "    <tr>\n",
              "      <th>291</th>\n",
              "      <td>292</td>\n",
              "      <td>2022</td>\n",
              "      <td>Data Analyst</td>\n",
              "      <td>SE</td>\n",
              "      <td>FT</td>\n",
              "      <td>9,596,082.00</td>\n",
              "      <td>US</td>\n",
              "      <td>US</td>\n",
              "      <td>M</td>\n",
              "      <td>100</td>\n",
              "    </tr>\n",
              "    <tr>\n",
              "      <th>586</th>\n",
              "      <td>587</td>\n",
              "      <td>2022</td>\n",
              "      <td>Data Analyst</td>\n",
              "      <td>MI</td>\n",
              "      <td>FT</td>\n",
              "      <td>3,644,840.00</td>\n",
              "      <td>GB</td>\n",
              "      <td>GB</td>\n",
              "      <td>M</td>\n",
              "      <td>0</td>\n",
              "    </tr>\n",
              "    <tr>\n",
              "      <th>391</th>\n",
              "      <td>392</td>\n",
              "      <td>2022</td>\n",
              "      <td>AI Scientist</td>\n",
              "      <td>MI</td>\n",
              "      <td>FT</td>\n",
              "      <td>9,548,340.00</td>\n",
              "      <td>US</td>\n",
              "      <td>US</td>\n",
              "      <td>M</td>\n",
              "      <td>0</td>\n",
              "    </tr>\n",
              "  </tbody>\n",
              "</table>\n",
              "</div>\n",
              "      <button class=\"colab-df-convert\" onclick=\"convertToInteractive('df-cdc00bfb-85cc-449c-9cfe-d1806d474e9c')\"\n",
              "              title=\"Convert this dataframe to an interactive table.\"\n",
              "              style=\"display:none;\">\n",
              "        \n",
              "  <svg xmlns=\"http://www.w3.org/2000/svg\" height=\"24px\"viewBox=\"0 0 24 24\"\n",
              "       width=\"24px\">\n",
              "    <path d=\"M0 0h24v24H0V0z\" fill=\"none\"/>\n",
              "    <path d=\"M18.56 5.44l.94 2.06.94-2.06 2.06-.94-2.06-.94-.94-2.06-.94 2.06-2.06.94zm-11 1L8.5 8.5l.94-2.06 2.06-.94-2.06-.94L8.5 2.5l-.94 2.06-2.06.94zm10 10l.94 2.06.94-2.06 2.06-.94-2.06-.94-.94-2.06-.94 2.06-2.06.94z\"/><path d=\"M17.41 7.96l-1.37-1.37c-.4-.4-.92-.59-1.43-.59-.52 0-1.04.2-1.43.59L10.3 9.45l-7.72 7.72c-.78.78-.78 2.05 0 2.83L4 21.41c.39.39.9.59 1.41.59.51 0 1.02-.2 1.41-.59l7.78-7.78 2.81-2.81c.8-.78.8-2.07 0-2.86zM5.41 20L4 18.59l7.72-7.72 1.47 1.35L5.41 20z\"/>\n",
              "  </svg>\n",
              "      </button>\n",
              "      \n",
              "  <style>\n",
              "    .colab-df-container {\n",
              "      display:flex;\n",
              "      flex-wrap:wrap;\n",
              "      gap: 12px;\n",
              "    }\n",
              "\n",
              "    .colab-df-convert {\n",
              "      background-color: #E8F0FE;\n",
              "      border: none;\n",
              "      border-radius: 50%;\n",
              "      cursor: pointer;\n",
              "      display: none;\n",
              "      fill: #1967D2;\n",
              "      height: 32px;\n",
              "      padding: 0 0 0 0;\n",
              "      width: 32px;\n",
              "    }\n",
              "\n",
              "    .colab-df-convert:hover {\n",
              "      background-color: #E2EBFA;\n",
              "      box-shadow: 0px 1px 2px rgba(60, 64, 67, 0.3), 0px 1px 3px 1px rgba(60, 64, 67, 0.15);\n",
              "      fill: #174EA6;\n",
              "    }\n",
              "\n",
              "    [theme=dark] .colab-df-convert {\n",
              "      background-color: #3B4455;\n",
              "      fill: #D2E3FC;\n",
              "    }\n",
              "\n",
              "    [theme=dark] .colab-df-convert:hover {\n",
              "      background-color: #434B5C;\n",
              "      box-shadow: 0px 1px 3px 1px rgba(0, 0, 0, 0.15);\n",
              "      filter: drop-shadow(0px 1px 2px rgba(0, 0, 0, 0.3));\n",
              "      fill: #FFFFFF;\n",
              "    }\n",
              "  </style>\n",
              "\n",
              "      <script>\n",
              "        const buttonEl =\n",
              "          document.querySelector('#df-cdc00bfb-85cc-449c-9cfe-d1806d474e9c button.colab-df-convert');\n",
              "        buttonEl.style.display =\n",
              "          google.colab.kernel.accessAllowed ? 'block' : 'none';\n",
              "\n",
              "        async function convertToInteractive(key) {\n",
              "          const element = document.querySelector('#df-cdc00bfb-85cc-449c-9cfe-d1806d474e9c');\n",
              "          const dataTable =\n",
              "            await google.colab.kernel.invokeFunction('convertToInteractive',\n",
              "                                                     [key], {});\n",
              "          if (!dataTable) return;\n",
              "\n",
              "          const docLinkHtml = 'Like what you see? Visit the ' +\n",
              "            '<a target=\"_blank\" href=https://colab.research.google.com/notebooks/data_table.ipynb>data table notebook</a>'\n",
              "            + ' to learn more about interactive tables.';\n",
              "          element.innerHTML = '';\n",
              "          dataTable['output_type'] = 'display_data';\n",
              "          await google.colab.output.renderOutput(dataTable, element);\n",
              "          const docLink = document.createElement('div');\n",
              "          docLink.innerHTML = docLinkHtml;\n",
              "          element.appendChild(docLink);\n",
              "        }\n",
              "      </script>\n",
              "    </div>\n",
              "  </div>\n",
              "  "
            ]
          },
          "metadata": {},
          "execution_count": 5
        }
      ]
    },
    {
      "cell_type": "code",
      "source": [
        "#Quantidade de linhas  e colunas\n",
        "df.shape"
      ],
      "metadata": {
        "colab": {
          "base_uri": "https://localhost:8080/"
        },
        "id": "okOd1qRxjTaA",
        "outputId": "f72302bd-672e-45c3-c8ad-f8d230917aec"
      },
      "execution_count": 6,
      "outputs": [
        {
          "output_type": "execute_result",
          "data": {
            "text/plain": [
              "(607, 10)"
            ]
          },
          "metadata": {},
          "execution_count": 6
        }
      ]
    },
    {
      "cell_type": "code",
      "source": [
        "#Verificando os tipos de dados\n",
        "df.dtypes"
      ],
      "metadata": {
        "colab": {
          "base_uri": "https://localhost:8080/"
        },
        "id": "mfFNsY-fjcuG",
        "outputId": "0a6892c6-14c5-4824-c7b9-dff50c803a3b"
      },
      "execution_count": 7,
      "outputs": [
        {
          "output_type": "execute_result",
          "data": {
            "text/plain": [
              "Unnamed: 0               int64\n",
              "Working_Year             int64\n",
              "Designation             object\n",
              "Experience              object\n",
              "Employment_Status       object\n",
              "Salary_In_Rupees        object\n",
              "Employee_Location       object\n",
              "Company_Location        object\n",
              "Company_Size            object\n",
              "Remote_Working_Ratio     int64\n",
              "dtype: object"
            ]
          },
          "metadata": {},
          "execution_count": 7
        }
      ]
    },
    {
      "cell_type": "code",
      "source": [
        "#Alterando o tipo de dado da coluna Working_Year de int64 para data\n",
        "df[\"Working_Year\"] = pd.to_datetime(df[\"Working_Year\"])"
      ],
      "metadata": {
        "id": "1rIP4clgkG5R"
      },
      "execution_count": 8,
      "outputs": []
    },
    {
      "cell_type": "code",
      "source": [
        "#Verificando novamente os tipos de dados\n",
        "df.dtypes"
      ],
      "metadata": {
        "colab": {
          "base_uri": "https://localhost:8080/"
        },
        "id": "MpLgR3aAmNAy",
        "outputId": "beb0f27d-c70e-4d76-8ec2-8f07524cf08f"
      },
      "execution_count": 9,
      "outputs": [
        {
          "output_type": "execute_result",
          "data": {
            "text/plain": [
              "Unnamed: 0                       int64\n",
              "Working_Year            datetime64[ns]\n",
              "Designation                     object\n",
              "Experience                      object\n",
              "Employment_Status               object\n",
              "Salary_In_Rupees                object\n",
              "Employee_Location               object\n",
              "Company_Location                object\n",
              "Company_Size                    object\n",
              "Remote_Working_Ratio             int64\n",
              "dtype: object"
            ]
          },
          "metadata": {},
          "execution_count": 9
        }
      ]
    },
    {
      "cell_type": "code",
      "source": [
        "#Verificando se temos dados faltantes\n",
        "df.isnull().sum()"
      ],
      "metadata": {
        "colab": {
          "base_uri": "https://localhost:8080/"
        },
        "id": "hZT0nAWZm6pW",
        "outputId": "a4097f6f-c0e2-481f-c0fd-869bbb75be61"
      },
      "execution_count": 10,
      "outputs": [
        {
          "output_type": "execute_result",
          "data": {
            "text/plain": [
              "Unnamed: 0              0\n",
              "Working_Year            0\n",
              "Designation             0\n",
              "Experience              0\n",
              "Employment_Status       0\n",
              "Salary_In_Rupees        0\n",
              "Employee_Location       0\n",
              "Company_Location        0\n",
              "Company_Size            0\n",
              "Remote_Working_Ratio    0\n",
              "dtype: int64"
            ]
          },
          "metadata": {},
          "execution_count": 10
        }
      ]
    },
    {
      "cell_type": "code",
      "source": [
        "#renomeando o nome das colunas para o português\n",
        "df=df.rename(columns={\"Unnamed: 0\":\"id\", \"Working_Year\":\"Ano_trabalho\", \"Designation\":\"função_exercida\",\n",
        "                   \"Experience\":\"nivel_de_experiencia\", \"Employment_Status\":\"tipo_de_emprego\",\n",
        "                   \"Salary_In_Rupees\":\"salario_bruto_pago\", \"Employee_Location\": \"país_funcionario\",\n",
        "                   \"Company_Location\":\"pais_contratante\", \"Company_Size\":\"numeros_funcionarios\", \n",
        "                   \"Remote_Working_Ratio\": \"quantidade_trabalho_remotamente\"})"
      ],
      "metadata": {
        "id": "HQhgrJ4_m7tK"
      },
      "execution_count": 11,
      "outputs": []
    },
    {
      "cell_type": "code",
      "source": [
        "df.dtypes"
      ],
      "metadata": {
        "colab": {
          "base_uri": "https://localhost:8080/"
        },
        "id": "eGcBPekE46AU",
        "outputId": "1375292f-5c93-4407-b12e-7ee22638f6d8"
      },
      "execution_count": 12,
      "outputs": [
        {
          "output_type": "execute_result",
          "data": {
            "text/plain": [
              "id                                          int64\n",
              "Ano_trabalho                       datetime64[ns]\n",
              "função_exercida                            object\n",
              "nivel_de_experiencia                       object\n",
              "tipo_de_emprego                            object\n",
              "salario_bruto_pago                         object\n",
              "país_funcionario                           object\n",
              "pais_contratante                           object\n",
              "numeros_funcionarios                       object\n",
              "quantidade_trabalho_remotamente             int64\n",
              "dtype: object"
            ]
          },
          "metadata": {},
          "execution_count": 12
        }
      ]
    },
    {
      "cell_type": "code",
      "source": [
        "df[\"id\"] = df[\"id\"].astype(\"object\")"
      ],
      "metadata": {
        "id": "92b5XAROfdTu"
      },
      "execution_count": 13,
      "outputs": []
    },
    {
      "cell_type": "code",
      "source": [
        "df['quantidade_trabalho_remotamente'] = df['quantidade_trabalho_remotamente'].apply(str)"
      ],
      "metadata": {
        "id": "p2WYft1SD1yU"
      },
      "execution_count": 14,
      "outputs": []
    },
    {
      "cell_type": "code",
      "source": [
        "#df['quantidade_trabalho_remotamente'] = df['quantidade_trabalho_remotamente'].astype(\"object\")"
      ],
      "metadata": {
        "id": "Bke9q0WSFNNB"
      },
      "execution_count": 15,
      "outputs": []
    },
    {
      "cell_type": "code",
      "source": [
        "\n",
        "df['salario_bruto_pago']= df['salario_bruto_pago'].str.replace(',','')"
      ],
      "metadata": {
        "id": "1KF-8eX-rhba"
      },
      "execution_count": 16,
      "outputs": []
    },
    {
      "cell_type": "code",
      "source": [
        "df['salario_bruto_pago'].head(10)"
      ],
      "metadata": {
        "colab": {
          "base_uri": "https://localhost:8080/"
        },
        "id": "xhN0IrUDjeyn",
        "outputId": "61676712-287a-4ff6-b271-fbeace3314ec"
      },
      "execution_count": 17,
      "outputs": [
        {
          "output_type": "execute_result",
          "data": {
            "text/plain": [
              "0     6352272.00\n",
              "1    20688070.00\n",
              "2     8674985.00\n",
              "3     1591390.00\n",
              "4    11935425.00\n",
              "5     5729004.00\n",
              "6    15118205.00\n",
              "7     2843416.00\n",
              "8    10741883.00\n",
              "9     9946188.00\n",
              "Name: salario_bruto_pago, dtype: object"
            ]
          },
          "metadata": {},
          "execution_count": 17
        }
      ]
    },
    {
      "cell_type": "code",
      "source": [
        "df['salario_bruto_pago'] = df['salario_bruto_pago'].astype(float)\n"
      ],
      "metadata": {
        "id": "BzXPWsLigo0d"
      },
      "execution_count": 18,
      "outputs": []
    },
    {
      "cell_type": "code",
      "source": [
        "#retorna somente o nome das colunas\n",
        "df.columns"
      ],
      "metadata": {
        "colab": {
          "base_uri": "https://localhost:8080/"
        },
        "id": "sC_CIdt446xE",
        "outputId": "6919ea0e-6604-4827-937d-0e0252c9fae8"
      },
      "execution_count": 19,
      "outputs": [
        {
          "output_type": "execute_result",
          "data": {
            "text/plain": [
              "Index(['id', 'Ano_trabalho', 'função_exercida', 'nivel_de_experiencia',\n",
              "       'tipo_de_emprego', 'salario_bruto_pago', 'país_funcionario',\n",
              "       'pais_contratante', 'numeros_funcionarios',\n",
              "       'quantidade_trabalho_remotamente'],\n",
              "      dtype='object')"
            ]
          },
          "metadata": {},
          "execution_count": 19
        }
      ]
    },
    {
      "cell_type": "code",
      "source": [
        "df.describe()"
      ],
      "metadata": {
        "colab": {
          "base_uri": "https://localhost:8080/",
          "height": 300
        },
        "id": "n9rGOJbH53sa",
        "outputId": "8e2de15c-6a70-4715-9fd5-e0a8d5246397"
      },
      "execution_count": 20,
      "outputs": [
        {
          "output_type": "execute_result",
          "data": {
            "text/plain": [
              "       salario_bruto_pago\n",
              "count        6.070000e+02\n",
              "mean         8.935485e+06\n",
              "std          5.646034e+06\n",
              "min          2.274890e+05\n",
              "25%          4.991076e+06\n",
              "50%          8.081874e+06\n",
              "75%          1.193542e+07\n",
              "max          4.774170e+07"
            ],
            "text/html": [
              "\n",
              "  <div id=\"df-41af5bc3-22bd-4bf4-acf0-7bc8c20ce0f3\">\n",
              "    <div class=\"colab-df-container\">\n",
              "      <div>\n",
              "<style scoped>\n",
              "    .dataframe tbody tr th:only-of-type {\n",
              "        vertical-align: middle;\n",
              "    }\n",
              "\n",
              "    .dataframe tbody tr th {\n",
              "        vertical-align: top;\n",
              "    }\n",
              "\n",
              "    .dataframe thead th {\n",
              "        text-align: right;\n",
              "    }\n",
              "</style>\n",
              "<table border=\"1\" class=\"dataframe\">\n",
              "  <thead>\n",
              "    <tr style=\"text-align: right;\">\n",
              "      <th></th>\n",
              "      <th>salario_bruto_pago</th>\n",
              "    </tr>\n",
              "  </thead>\n",
              "  <tbody>\n",
              "    <tr>\n",
              "      <th>count</th>\n",
              "      <td>6.070000e+02</td>\n",
              "    </tr>\n",
              "    <tr>\n",
              "      <th>mean</th>\n",
              "      <td>8.935485e+06</td>\n",
              "    </tr>\n",
              "    <tr>\n",
              "      <th>std</th>\n",
              "      <td>5.646034e+06</td>\n",
              "    </tr>\n",
              "    <tr>\n",
              "      <th>min</th>\n",
              "      <td>2.274890e+05</td>\n",
              "    </tr>\n",
              "    <tr>\n",
              "      <th>25%</th>\n",
              "      <td>4.991076e+06</td>\n",
              "    </tr>\n",
              "    <tr>\n",
              "      <th>50%</th>\n",
              "      <td>8.081874e+06</td>\n",
              "    </tr>\n",
              "    <tr>\n",
              "      <th>75%</th>\n",
              "      <td>1.193542e+07</td>\n",
              "    </tr>\n",
              "    <tr>\n",
              "      <th>max</th>\n",
              "      <td>4.774170e+07</td>\n",
              "    </tr>\n",
              "  </tbody>\n",
              "</table>\n",
              "</div>\n",
              "      <button class=\"colab-df-convert\" onclick=\"convertToInteractive('df-41af5bc3-22bd-4bf4-acf0-7bc8c20ce0f3')\"\n",
              "              title=\"Convert this dataframe to an interactive table.\"\n",
              "              style=\"display:none;\">\n",
              "        \n",
              "  <svg xmlns=\"http://www.w3.org/2000/svg\" height=\"24px\"viewBox=\"0 0 24 24\"\n",
              "       width=\"24px\">\n",
              "    <path d=\"M0 0h24v24H0V0z\" fill=\"none\"/>\n",
              "    <path d=\"M18.56 5.44l.94 2.06.94-2.06 2.06-.94-2.06-.94-.94-2.06-.94 2.06-2.06.94zm-11 1L8.5 8.5l.94-2.06 2.06-.94-2.06-.94L8.5 2.5l-.94 2.06-2.06.94zm10 10l.94 2.06.94-2.06 2.06-.94-2.06-.94-.94-2.06-.94 2.06-2.06.94z\"/><path d=\"M17.41 7.96l-1.37-1.37c-.4-.4-.92-.59-1.43-.59-.52 0-1.04.2-1.43.59L10.3 9.45l-7.72 7.72c-.78.78-.78 2.05 0 2.83L4 21.41c.39.39.9.59 1.41.59.51 0 1.02-.2 1.41-.59l7.78-7.78 2.81-2.81c.8-.78.8-2.07 0-2.86zM5.41 20L4 18.59l7.72-7.72 1.47 1.35L5.41 20z\"/>\n",
              "  </svg>\n",
              "      </button>\n",
              "      \n",
              "  <style>\n",
              "    .colab-df-container {\n",
              "      display:flex;\n",
              "      flex-wrap:wrap;\n",
              "      gap: 12px;\n",
              "    }\n",
              "\n",
              "    .colab-df-convert {\n",
              "      background-color: #E8F0FE;\n",
              "      border: none;\n",
              "      border-radius: 50%;\n",
              "      cursor: pointer;\n",
              "      display: none;\n",
              "      fill: #1967D2;\n",
              "      height: 32px;\n",
              "      padding: 0 0 0 0;\n",
              "      width: 32px;\n",
              "    }\n",
              "\n",
              "    .colab-df-convert:hover {\n",
              "      background-color: #E2EBFA;\n",
              "      box-shadow: 0px 1px 2px rgba(60, 64, 67, 0.3), 0px 1px 3px 1px rgba(60, 64, 67, 0.15);\n",
              "      fill: #174EA6;\n",
              "    }\n",
              "\n",
              "    [theme=dark] .colab-df-convert {\n",
              "      background-color: #3B4455;\n",
              "      fill: #D2E3FC;\n",
              "    }\n",
              "\n",
              "    [theme=dark] .colab-df-convert:hover {\n",
              "      background-color: #434B5C;\n",
              "      box-shadow: 0px 1px 3px 1px rgba(0, 0, 0, 0.15);\n",
              "      filter: drop-shadow(0px 1px 2px rgba(0, 0, 0, 0.3));\n",
              "      fill: #FFFFFF;\n",
              "    }\n",
              "  </style>\n",
              "\n",
              "      <script>\n",
              "        const buttonEl =\n",
              "          document.querySelector('#df-41af5bc3-22bd-4bf4-acf0-7bc8c20ce0f3 button.colab-df-convert');\n",
              "        buttonEl.style.display =\n",
              "          google.colab.kernel.accessAllowed ? 'block' : 'none';\n",
              "\n",
              "        async function convertToInteractive(key) {\n",
              "          const element = document.querySelector('#df-41af5bc3-22bd-4bf4-acf0-7bc8c20ce0f3');\n",
              "          const dataTable =\n",
              "            await google.colab.kernel.invokeFunction('convertToInteractive',\n",
              "                                                     [key], {});\n",
              "          if (!dataTable) return;\n",
              "\n",
              "          const docLinkHtml = 'Like what you see? Visit the ' +\n",
              "            '<a target=\"_blank\" href=https://colab.research.google.com/notebooks/data_table.ipynb>data table notebook</a>'\n",
              "            + ' to learn more about interactive tables.';\n",
              "          element.innerHTML = '';\n",
              "          dataTable['output_type'] = 'display_data';\n",
              "          await google.colab.output.renderOutput(dataTable, element);\n",
              "          const docLink = document.createElement('div');\n",
              "          docLink.innerHTML = docLinkHtml;\n",
              "          element.appendChild(docLink);\n",
              "        }\n",
              "      </script>\n",
              "    </div>\n",
              "  </div>\n",
              "  "
            ]
          },
          "metadata": {},
          "execution_count": 20
        }
      ]
    },
    {
      "cell_type": "code",
      "source": [
        "#retornando valores unicos das coluna função_exerciada\n",
        "df[\"função_exercida\"].unique()"
      ],
      "metadata": {
        "colab": {
          "base_uri": "https://localhost:8080/"
        },
        "id": "4Gcuq3_e6VL7",
        "outputId": "fff0d9c5-c34c-480d-b55b-1ef066efc18f"
      },
      "execution_count": 21,
      "outputs": [
        {
          "output_type": "execute_result",
          "data": {
            "text/plain": [
              "array(['Data Scientist', 'Machine Learning Scientist',\n",
              "       'Big Data Engineer', 'Product Data Analyst',\n",
              "       'Machine Learning Engineer', 'Data Analyst', 'Lead Data Scientist',\n",
              "       'Business Data Analyst', 'Lead Data Engineer', 'Lead Data Analyst',\n",
              "       'Data Engineer', 'Data Science Consultant', 'BI Data Analyst',\n",
              "       'Director of Data Science', 'Research Scientist',\n",
              "       'Machine Learning Manager', 'Data Engineering Manager',\n",
              "       'Machine Learning Infrastructure Engineer', 'ML Engineer',\n",
              "       'AI Scientist', 'Computer Vision Engineer',\n",
              "       'Principal Data Scientist', 'Data Science Manager', 'Head of Data',\n",
              "       '3D Computer Vision Researcher', 'Data Analytics Engineer',\n",
              "       'Applied Data Scientist', 'Marketing Data Analyst',\n",
              "       'Cloud Data Engineer', 'Financial Data Analyst',\n",
              "       'Computer Vision Software Engineer',\n",
              "       'Director of Data Engineering', 'Data Science Engineer',\n",
              "       'Principal Data Engineer', 'Machine Learning Developer',\n",
              "       'Applied Machine Learning Scientist', 'Data Analytics Manager',\n",
              "       'Head of Data Science', 'Data Specialist', 'Data Architect',\n",
              "       'Finance Data Analyst', 'Principal Data Analyst',\n",
              "       'Big Data Architect', 'Staff Data Scientist', 'Analytics Engineer',\n",
              "       'ETL Developer', 'Head of Machine Learning', 'NLP Engineer',\n",
              "       'Lead Machine Learning Engineer', 'Data Analytics Lead'],\n",
              "      dtype=object)"
            ]
          },
          "metadata": {},
          "execution_count": 21
        }
      ]
    },
    {
      "cell_type": "code",
      "source": [
        "#retornando valores unicos das coluna nivel_de_experiência\n",
        "df[\"nivel_de_experiencia\"].unique()"
      ],
      "metadata": {
        "colab": {
          "base_uri": "https://localhost:8080/"
        },
        "id": "gdY-cLgN7lFV",
        "outputId": "3d262f74-8d02-4b49-ab9a-88ca0ee6a4ca"
      },
      "execution_count": 22,
      "outputs": [
        {
          "output_type": "execute_result",
          "data": {
            "text/plain": [
              "array(['MI', 'SE', 'EN', 'EX'], dtype=object)"
            ]
          },
          "metadata": {},
          "execution_count": 22
        }
      ]
    },
    {
      "cell_type": "code",
      "source": [
        "#trocando as siglas por nomes na coluna_de_experiência\n",
        "df['nivel_de_experiencia']= df['nivel_de_experiencia'].str.replace('MI','Nível Médio / Intermediário')\n",
        "df['nivel_de_experiencia']= df['nivel_de_experiencia'].str.replace('SE','Nível Sênior / Especialista')\n",
        "df['nivel_de_experiencia']= df['nivel_de_experiencia'].str.replace('EN','Nível Iniciante / Júnior')\n",
        "df['nivel_de_experiencia']= df['nivel_de_experiencia'].str.replace('EX','Nível Executivo / Diretor')\n"
      ],
      "metadata": {
        "id": "eJ-ECC_ecyFr"
      },
      "execution_count": 23,
      "outputs": []
    },
    {
      "cell_type": "code",
      "source": [
        "df[\"nivel_de_experiencia\"].unique()"
      ],
      "metadata": {
        "colab": {
          "base_uri": "https://localhost:8080/"
        },
        "id": "eOHIOqGx7ZtM",
        "outputId": "ce7db97c-b9e1-414c-c8dc-4d64745affe4"
      },
      "execution_count": 24,
      "outputs": [
        {
          "output_type": "execute_result",
          "data": {
            "text/plain": [
              "array(['Nível Médio / Intermediário', 'Nível Sênior / Especialista',\n",
              "       'Nível Iniciante / Júnior', 'Nível Executivo / Diretor'],\n",
              "      dtype=object)"
            ]
          },
          "metadata": {},
          "execution_count": 24
        }
      ]
    },
    {
      "cell_type": "code",
      "source": [
        "#retornando valores unicos das coluna tipo_de_emprego\n",
        "df[\"tipo_de_emprego\"].unique()"
      ],
      "metadata": {
        "colab": {
          "base_uri": "https://localhost:8080/"
        },
        "id": "uz96bp0l8LG6",
        "outputId": "cc317928-ed40-49ea-95f2-45e0238aca0a"
      },
      "execution_count": 25,
      "outputs": [
        {
          "output_type": "execute_result",
          "data": {
            "text/plain": [
              "array(['FT', 'CT', 'PT', 'FL'], dtype=object)"
            ]
          },
          "metadata": {},
          "execution_count": 25
        }
      ]
    },
    {
      "cell_type": "code",
      "source": [
        "#trocando as siglas por nomes na coluna tipo_de_emprego\n",
        "df['tipo_de_emprego']= df['tipo_de_emprego'].str.replace('FT','Tempo integral')\n",
        "df['tipo_de_emprego']= df['tipo_de_emprego'].str.replace('CT','Contrato')\n",
        "df['tipo_de_emprego']= df['tipo_de_emprego'].str.replace('PT','Meio período')\n",
        "df['tipo_de_emprego']= df['tipo_de_emprego'].str.replace('FL','Freelance')"
      ],
      "metadata": {
        "id": "ihTwBQes7q4C"
      },
      "execution_count": 26,
      "outputs": []
    },
    {
      "cell_type": "code",
      "source": [
        "df[\"tipo_de_emprego\"].unique()"
      ],
      "metadata": {
        "colab": {
          "base_uri": "https://localhost:8080/"
        },
        "id": "1fqSX5Q-8-I-",
        "outputId": "3d3c996f-4fd0-4429-8c62-a482936a7ba4"
      },
      "execution_count": 27,
      "outputs": [
        {
          "output_type": "execute_result",
          "data": {
            "text/plain": [
              "array(['Tempo integral', 'Contrato', 'Meio período', 'Freelance'],\n",
              "      dtype=object)"
            ]
          },
          "metadata": {},
          "execution_count": 27
        }
      ]
    },
    {
      "cell_type": "code",
      "source": [
        "#retornando valores unicos das coluna país_funcionario\n",
        "df[\"país_funcionario\"].unique()"
      ],
      "metadata": {
        "colab": {
          "base_uri": "https://localhost:8080/"
        },
        "id": "VEUuUrOM8YFR",
        "outputId": "482f2dd0-6b51-4fd1-bf41-2939052e8fff"
      },
      "execution_count": 28,
      "outputs": [
        {
          "output_type": "execute_result",
          "data": {
            "text/plain": [
              "array(['DE', 'JP', 'GB', 'HN', 'US', 'HU', 'NZ', 'FR', 'IN', 'PK', 'PL',\n",
              "       'PT', 'CN', 'GR', 'AE', 'NL', 'MX', 'CA', 'AT', 'NG', 'PH', 'ES',\n",
              "       'DK', 'RU', 'IT', 'HR', 'BG', 'SG', 'BR', 'IQ', 'VN', 'BE', 'UA',\n",
              "       'MT', 'CL', 'RO', 'IR', 'CO', 'MD', 'KE', 'SI', 'HK', 'TR', 'RS',\n",
              "       'PR', 'LU', 'JE', 'CZ', 'AR', 'DZ', 'TN', 'MY', 'EE', 'AU', 'BO',\n",
              "       'IE', 'CH'], dtype=object)"
            ]
          },
          "metadata": {},
          "execution_count": 28
        }
      ]
    },
    {
      "cell_type": "code",
      "source": [
        "#retornando valores unicos das coluna pais_contratante\n",
        "df[\"pais_contratante\"].unique()"
      ],
      "metadata": {
        "colab": {
          "base_uri": "https://localhost:8080/"
        },
        "id": "S4iatwZN8xKw",
        "outputId": "ca85ddab-221b-42b9-9fb1-997ef32a349f"
      },
      "execution_count": 29,
      "outputs": [
        {
          "output_type": "execute_result",
          "data": {
            "text/plain": [
              "array(['DE', 'JP', 'GB', 'HN', 'US', 'HU', 'NZ', 'FR', 'IN', 'PK', 'CN',\n",
              "       'GR', 'AE', 'NL', 'MX', 'CA', 'AT', 'NG', 'ES', 'PT', 'DK', 'IT',\n",
              "       'HR', 'LU', 'PL', 'SG', 'RO', 'IQ', 'BR', 'BE', 'UA', 'IL', 'RU',\n",
              "       'MT', 'CL', 'IR', 'CO', 'MD', 'KE', 'SI', 'CH', 'VN', 'AS', 'TR',\n",
              "       'CZ', 'DZ', 'EE', 'MY', 'AU', 'IE'], dtype=object)"
            ]
          },
          "metadata": {},
          "execution_count": 29
        }
      ]
    },
    {
      "cell_type": "code",
      "source": [
        "#retornando valores unicos das coluna numeros_funcionarios\n",
        "df[\"numeros_funcionarios\"].unique()"
      ],
      "metadata": {
        "colab": {
          "base_uri": "https://localhost:8080/"
        },
        "id": "Xz7OucfR9IRa",
        "outputId": "e5ac8c02-7f8f-48ee-d0e7-2e4e624cf7c4"
      },
      "execution_count": 30,
      "outputs": [
        {
          "output_type": "execute_result",
          "data": {
            "text/plain": [
              "array(['L', 'S', 'M'], dtype=object)"
            ]
          },
          "metadata": {},
          "execution_count": 30
        }
      ]
    },
    {
      "cell_type": "code",
      "source": [
        "#trocando as siglas por nomes na coluna numeros_funcionarios\n",
        "df['numeros_funcionarios']= df['numeros_funcionarios'].str.replace('M','entre 50 a 250')\n",
        "df['numeros_funcionarios']= df['numeros_funcionarios'].str.replace('L','Mais de 250')\n",
        "df['numeros_funcionarios']= df['numeros_funcionarios'].str.replace('S','Menos de 50')\n"
      ],
      "metadata": {
        "id": "rrTilo6I9RmI"
      },
      "execution_count": 31,
      "outputs": []
    },
    {
      "cell_type": "code",
      "source": [
        "df[\"numeros_funcionarios\"].unique()"
      ],
      "metadata": {
        "colab": {
          "base_uri": "https://localhost:8080/"
        },
        "id": "QSXh5ifx-VA1",
        "outputId": "12ff3dc7-84af-4d44-d28c-e5d2c541ccbd"
      },
      "execution_count": 32,
      "outputs": [
        {
          "output_type": "execute_result",
          "data": {
            "text/plain": [
              "array(['Mais de 250', 'Menos de 50', 'entre 50 a 250'], dtype=object)"
            ]
          },
          "metadata": {},
          "execution_count": 32
        }
      ]
    },
    {
      "cell_type": "code",
      "source": [
        "df[\"numeros_funcionarios\"].head()"
      ],
      "metadata": {
        "colab": {
          "base_uri": "https://localhost:8080/"
        },
        "id": "3NvGgg4M_zI1",
        "outputId": "5e9da435-608a-43b6-cd69-f7637912ad11"
      },
      "execution_count": 33,
      "outputs": [
        {
          "output_type": "execute_result",
          "data": {
            "text/plain": [
              "0       Mais de 250\n",
              "1       Menos de 50\n",
              "2    entre 50 a 250\n",
              "3       Menos de 50\n",
              "4       Mais de 250\n",
              "Name: numeros_funcionarios, dtype: object"
            ]
          },
          "metadata": {},
          "execution_count": 33
        }
      ]
    },
    {
      "cell_type": "code",
      "source": [],
      "metadata": {
        "id": "DNyiX4tq_viv"
      },
      "execution_count": 33,
      "outputs": []
    },
    {
      "cell_type": "code",
      "source": [
        "#retornando valores unicos das coluna quantidade_trabalho_remotamente\n",
        "df[\"quantidade_trabalho_remotamente\"].unique()"
      ],
      "metadata": {
        "colab": {
          "base_uri": "https://localhost:8080/"
        },
        "id": "yuyM8kUu9gJL",
        "outputId": "635862ce-93d4-4a73-c23a-993557de3814"
      },
      "execution_count": 34,
      "outputs": [
        {
          "output_type": "execute_result",
          "data": {
            "text/plain": [
              "array(['0', '50', '100'], dtype=object)"
            ]
          },
          "metadata": {},
          "execution_count": 34
        }
      ]
    },
    {
      "cell_type": "code",
      "source": [
        "#trocando as siglas por nomes na coluna quantidade_trabalho_remotamente\n",
        "df['quantidade_trabalho_remotamente']= df['quantidade_trabalho_remotamente'].str.replace('50','Parcialmente Remoto')\n",
        "df['quantidade_trabalho_remotamente']= df['quantidade_trabalho_remotamente'].str.replace('100','Totalmente Remoto')\n",
        "df['quantidade_trabalho_remotamente']= df['quantidade_trabalho_remotamente'].str.replace('0','Sem Trabalho Remoto')"
      ],
      "metadata": {
        "id": "Y_EaQx-aBQ3_"
      },
      "execution_count": 35,
      "outputs": []
    },
    {
      "cell_type": "code",
      "source": [
        "df['quantidade_trabalho_remotamente'].head()"
      ],
      "metadata": {
        "colab": {
          "base_uri": "https://localhost:8080/"
        },
        "id": "z6X3F6Isoqc3",
        "outputId": "5ed55ac5-1044-4950-b0fc-040b1655154e"
      },
      "execution_count": 36,
      "outputs": [
        {
          "output_type": "execute_result",
          "data": {
            "text/plain": [
              "0    Sem Trabalho Remoto\n",
              "1    Sem Trabalho Remoto\n",
              "2    Parcialmente Remoto\n",
              "3    Sem Trabalho Remoto\n",
              "4    Parcialmente Remoto\n",
              "Name: quantidade_trabalho_remotamente, dtype: object"
            ]
          },
          "metadata": {},
          "execution_count": 36
        }
      ]
    },
    {
      "cell_type": "code",
      "source": [
        "df.groupby(\"numeros_funcionarios\")[\"quantidade_trabalho_remotamente\"].value_counts(ascending=False)"
      ],
      "metadata": {
        "colab": {
          "base_uri": "https://localhost:8080/"
        },
        "id": "q4M4HGLBwc9T",
        "outputId": "af182d16-9526-498e-98b3-fd8579a35db1"
      },
      "execution_count": 37,
      "outputs": [
        {
          "output_type": "execute_result",
          "data": {
            "text/plain": [
              "numeros_funcionarios  quantidade_trabalho_remotamente\n",
              "Mais de 250           Totalmente Remoto                  106\n",
              "                      Parcialmente Remoto                 60\n",
              "                      Sem Trabalho Remoto                 32\n",
              "Menos de 50           Totalmente Remoto                   49\n",
              "                      Parcialmente Remoto                 18\n",
              "                      Sem Trabalho Remoto                 16\n",
              "entre 50 a 250        Totalmente Remoto                  226\n",
              "                      Sem Trabalho Remoto                 79\n",
              "                      Parcialmente Remoto                 21\n",
              "Name: quantidade_trabalho_remotamente, dtype: int64"
            ]
          },
          "metadata": {},
          "execution_count": 37
        }
      ]
    },
    {
      "cell_type": "code",
      "source": [
        "df.groupby(\"numeros_funcionarios\")[\"quantidade_trabalho_remotamente\"].value_counts(ascending=False).plot.bar(title=\"total de de emprego/função exercida\")"
      ],
      "metadata": {
        "colab": {
          "base_uri": "https://localhost:8080/",
          "height": 561
        },
        "id": "t4jb-t5Ntp8-",
        "outputId": "4593c018-548d-4d0f-a1bc-df90f8a64a35"
      },
      "execution_count": 38,
      "outputs": [
        {
          "output_type": "execute_result",
          "data": {
            "text/plain": [
              "<matplotlib.axes._subplots.AxesSubplot at 0x7fa9e1f4ce50>"
            ]
          },
          "metadata": {},
          "execution_count": 38
        },
        {
          "output_type": "display_data",
          "data": {
            "text/plain": [
              "<Figure size 576x396 with 1 Axes>"
            ],
            "image/png": "[encoded data removed]"
          },
          "metadata": {}
        }
      ]
    },
    {
      "cell_type": "code",
      "source": [
        "df['pais_contratante'].value_counts(ascending=False)"
      ],
      "metadata": {
        "colab": {
          "base_uri": "https://localhost:8080/"
        },
        "id": "g915D60GuJFM",
        "outputId": "4fe59197-6f78-4ff6-b847-cbdc9c5f3254"
      },
      "execution_count": 39,
      "outputs": [
        {
          "output_type": "execute_result",
          "data": {
            "text/plain": [
              "US    355\n",
              "GB     47\n",
              "CA     30\n",
              "DE     28\n",
              "IN     24\n",
              "FR     15\n",
              "ES     14\n",
              "GR     11\n",
              "JP      6\n",
              "NL      4\n",
              "AT      4\n",
              "PT      4\n",
              "PL      4\n",
              "LU      3\n",
              "PK      3\n",
              "BR      3\n",
              "AE      3\n",
              "MX      3\n",
              "AU      3\n",
              "TR      3\n",
              "DK      3\n",
              "IT      2\n",
              "CZ      2\n",
              "SI      2\n",
              "RU      2\n",
              "CH      2\n",
              "NG      2\n",
              "CN      2\n",
              "BE      2\n",
              "VN      1\n",
              "EE      1\n",
              "AS      1\n",
              "DZ      1\n",
              "MY      1\n",
              "MD      1\n",
              "KE      1\n",
              "SG      1\n",
              "CO      1\n",
              "IR      1\n",
              "CL      1\n",
              "MT      1\n",
              "IL      1\n",
              "UA      1\n",
              "IQ      1\n",
              "RO      1\n",
              "HR      1\n",
              "NZ      1\n",
              "HU      1\n",
              "HN      1\n",
              "IE      1\n",
              "Name: pais_contratante, dtype: int64"
            ]
          },
          "metadata": {},
          "execution_count": 39
        }
      ]
    },
    {
      "cell_type": "code",
      "source": [
        "#quantidade do tamanho da empresa que trabalha remotamente\n",
        "\n",
        "df.loc[df[\"função_exercida\"] == \"Machine Learning Scientist\"]"
      ],
      "metadata": {
        "colab": {
          "base_uri": "https://localhost:8080/",
          "height": 503
        },
        "id": "DtFDIhlppX__",
        "outputId": "949dc9c5-1618-49e1-8d3f-d90e0b1fee50"
      },
      "execution_count": 40,
      "outputs": [
        {
          "output_type": "execute_result",
          "data": {
            "text/plain": [
              "      id                  Ano_trabalho             função_exercida  \\\n",
              "1      2 1970-01-01 00:00:00.000002020  Machine Learning Scientist   \n",
              "115  116 1970-01-01 00:00:00.000002021  Machine Learning Scientist   \n",
              "126  127 1970-01-01 00:00:00.000002021  Machine Learning Scientist   \n",
              "184  185 1970-01-01 00:00:00.000002021  Machine Learning Scientist   \n",
              "224  225 1970-01-01 00:00:00.000002021  Machine Learning Scientist   \n",
              "419  420 1970-01-01 00:00:00.000002022  Machine Learning Scientist   \n",
              "420  421 1970-01-01 00:00:00.000002022  Machine Learning Scientist   \n",
              "495  496 1970-01-01 00:00:00.000002022  Machine Learning Scientist   \n",
              "\n",
              "            nivel_de_experiencia tipo_de_emprego  salario_bruto_pago  \\\n",
              "1    Nível Sênior / Especialista  Tempo integral          20688070.0   \n",
              "115     Nível Iniciante / Júnior  Tempo integral          17903138.0   \n",
              "126  Nível Sênior / Especialista  Tempo integral           9548340.0   \n",
              "184  Nível Médio / Intermediário       Freelance            954834.0   \n",
              "224  Nível Sênior / Especialista  Tempo integral          17903138.0   \n",
              "419  Nível Médio / Intermediário  Tempo integral          12731120.0   \n",
              "420  Nível Médio / Intermediário  Tempo integral           8935655.0   \n",
              "495  Nível Médio / Intermediário  Tempo integral          12174134.0   \n",
              "\n",
              "    país_funcionario pais_contratante numeros_funcionarios  \\\n",
              "1                 JP               JP          Menos de 50   \n",
              "115               US               US          Mais de 250   \n",
              "126               US               US          Menos de 50   \n",
              "184               PK               PK       entre 50 a 250   \n",
              "224               US               CA          Mais de 250   \n",
              "419               US               US          Mais de 250   \n",
              "420               US               US          Mais de 250   \n",
              "495               US               US       entre 50 a 250   \n",
              "\n",
              "    quantidade_trabalho_remotamente  \n",
              "1               Sem Trabalho Remoto  \n",
              "115               Totalmente Remoto  \n",
              "126             Parcialmente Remoto  \n",
              "184             Parcialmente Remoto  \n",
              "224               Totalmente Remoto  \n",
              "419               Totalmente Remoto  \n",
              "420               Totalmente Remoto  \n",
              "495             Parcialmente Remoto  "
            ],
            "text/html": [
              "\n",
              "  <div id=\"df-0b347008-6609-41a5-bec2-54ee172b12b7\">\n",
              "    <div class=\"colab-df-container\">\n",
              "      <div>\n",
              "<style scoped>\n",
              "    .dataframe tbody tr th:only-of-type {\n",
              "        vertical-align: middle;\n",
              "    }\n",
              "\n",
              "    .dataframe tbody tr th {\n",
              "        vertical-align: top;\n",
              "    }\n",
              "\n",
              "    .dataframe thead th {\n",
              "        text-align: right;\n",
              "    }\n",
              "</style>\n",
              "<table border=\"1\" class=\"dataframe\">\n",
              "  <thead>\n",
              "    <tr style=\"text-align: right;\">\n",
              "      <th></th>\n",
              "      <th>id</th>\n",
              "      <th>Ano_trabalho</th>\n",
              "      <th>função_exercida</th>\n",
              "      <th>nivel_de_experiencia</th>\n",
              "      <th>tipo_de_emprego</th>\n",
              "      <th>salario_bruto_pago</th>\n",
              "      <th>país_funcionario</th>\n",
              "      <th>pais_contratante</th>\n",
              "      <th>numeros_funcionarios</th>\n",
              "      <th>quantidade_trabalho_remotamente</th>\n",
              "    </tr>\n",
              "  </thead>\n",
              "  <tbody>\n",
              "    <tr>\n",
              "      <th>1</th>\n",
              "      <td>2</td>\n",
              "      <td>1970-01-01 00:00:00.000002020</td>\n",
              "      <td>Machine Learning Scientist</td>\n",
              "      <td>Nível Sênior / Especialista</td>\n",
              "      <td>Tempo integral</td>\n",
              "      <td>20688070.0</td>\n",
              "      <td>JP</td>\n",
              "      <td>JP</td>\n",
              "      <td>Menos de 50</td>\n",
              "      <td>Sem Trabalho Remoto</td>\n",
              "    </tr>\n",
              "    <tr>\n",
              "      <th>115</th>\n",
              "      <td>116</td>\n",
              "      <td>1970-01-01 00:00:00.000002021</td>\n",
              "      <td>Machine Learning Scientist</td>\n",
              "      <td>Nível Iniciante / Júnior</td>\n",
              "      <td>Tempo integral</td>\n",
              "      <td>17903138.0</td>\n",
              "      <td>US</td>\n",
              "      <td>US</td>\n",
              "      <td>Mais de 250</td>\n",
              "      <td>Totalmente Remoto</td>\n",
              "    </tr>\n",
              "    <tr>\n",
              "      <th>126</th>\n",
              "      <td>127</td>\n",
              "      <td>1970-01-01 00:00:00.000002021</td>\n",
              "      <td>Machine Learning Scientist</td>\n",
              "      <td>Nível Sênior / Especialista</td>\n",
              "      <td>Tempo integral</td>\n",
              "      <td>9548340.0</td>\n",
              "      <td>US</td>\n",
              "      <td>US</td>\n",
              "      <td>Menos de 50</td>\n",
              "      <td>Parcialmente Remoto</td>\n",
              "    </tr>\n",
              "    <tr>\n",
              "      <th>184</th>\n",
              "      <td>185</td>\n",
              "      <td>1970-01-01 00:00:00.000002021</td>\n",
              "      <td>Machine Learning Scientist</td>\n",
              "      <td>Nível Médio / Intermediário</td>\n",
              "      <td>Freelance</td>\n",
              "      <td>954834.0</td>\n",
              "      <td>PK</td>\n",
              "      <td>PK</td>\n",
              "      <td>entre 50 a 250</td>\n",
              "      <td>Parcialmente Remoto</td>\n",
              "    </tr>\n",
              "    <tr>\n",
              "      <th>224</th>\n",
              "      <td>225</td>\n",
              "      <td>1970-01-01 00:00:00.000002021</td>\n",
              "      <td>Machine Learning Scientist</td>\n",
              "      <td>Nível Sênior / Especialista</td>\n",
              "      <td>Tempo integral</td>\n",
              "      <td>17903138.0</td>\n",
              "      <td>US</td>\n",
              "      <td>CA</td>\n",
              "      <td>Mais de 250</td>\n",
              "      <td>Totalmente Remoto</td>\n",
              "    </tr>\n",
              "    <tr>\n",
              "      <th>419</th>\n",
              "      <td>420</td>\n",
              "      <td>1970-01-01 00:00:00.000002022</td>\n",
              "      <td>Machine Learning Scientist</td>\n",
              "      <td>Nível Médio / Intermediário</td>\n",
              "      <td>Tempo integral</td>\n",
              "      <td>12731120.0</td>\n",
              "      <td>US</td>\n",
              "      <td>US</td>\n",
              "      <td>Mais de 250</td>\n",
              "      <td>Totalmente Remoto</td>\n",
              "    </tr>\n",
              "    <tr>\n",
              "      <th>420</th>\n",
              "      <td>421</td>\n",
              "      <td>1970-01-01 00:00:00.000002022</td>\n",
              "      <td>Machine Learning Scientist</td>\n",
              "      <td>Nível Médio / Intermediário</td>\n",
              "      <td>Tempo integral</td>\n",
              "      <td>8935655.0</td>\n",
              "      <td>US</td>\n",
              "      <td>US</td>\n",
              "      <td>Mais de 250</td>\n",
              "      <td>Totalmente Remoto</td>\n",
              "    </tr>\n",
              "    <tr>\n",
              "      <th>495</th>\n",
              "      <td>496</td>\n",
              "      <td>1970-01-01 00:00:00.000002022</td>\n",
              "      <td>Machine Learning Scientist</td>\n",
              "      <td>Nível Médio / Intermediário</td>\n",
              "      <td>Tempo integral</td>\n",
              "      <td>12174134.0</td>\n",
              "      <td>US</td>\n",
              "      <td>US</td>\n",
              "      <td>entre 50 a 250</td>\n",
              "      <td>Parcialmente Remoto</td>\n",
              "    </tr>\n",
              "  </tbody>\n",
              "</table>\n",
              "</div>\n",
              "      <button class=\"colab-df-convert\" onclick=\"convertToInteractive('df-0b347008-6609-41a5-bec2-54ee172b12b7')\"\n",
              "              title=\"Convert this dataframe to an interactive table.\"\n",
              "              style=\"display:none;\">\n",
              "        \n",
              "  <svg xmlns=\"http://www.w3.org/2000/svg\" height=\"24px\"viewBox=\"0 0 24 24\"\n",
              "       width=\"24px\">\n",
              "    <path d=\"M0 0h24v24H0V0z\" fill=\"none\"/>\n",
              "    <path d=\"M18.56 5.44l.94 2.06.94-2.06 2.06-.94-2.06-.94-.94-2.06-.94 2.06-2.06.94zm-11 1L8.5 8.5l.94-2.06 2.06-.94-2.06-.94L8.5 2.5l-.94 2.06-2.06.94zm10 10l.94 2.06.94-2.06 2.06-.94-2.06-.94-.94-2.06-.94 2.06-2.06.94z\"/><path d=\"M17.41 7.96l-1.37-1.37c-.4-.4-.92-.59-1.43-.59-.52 0-1.04.2-1.43.59L10.3 9.45l-7.72 7.72c-.78.78-.78 2.05 0 2.83L4 21.41c.39.39.9.59 1.41.59.51 0 1.02-.2 1.41-.59l7.78-7.78 2.81-2.81c.8-.78.8-2.07 0-2.86zM5.41 20L4 18.59l7.72-7.72 1.47 1.35L5.41 20z\"/>\n",
              "  </svg>\n",
              "      </button>\n",
              "      \n",
              "  <style>\n",
              "    .colab-df-container {\n",
              "      display:flex;\n",
              "      flex-wrap:wrap;\n",
              "      gap: 12px;\n",
              "    }\n",
              "\n",
              "    .colab-df-convert {\n",
              "      background-color: #E8F0FE;\n",
              "      border: none;\n",
              "      border-radius: 50%;\n",
              "      cursor: pointer;\n",
              "      display: none;\n",
              "      fill: #1967D2;\n",
              "      height: 32px;\n",
              "      padding: 0 0 0 0;\n",
              "      width: 32px;\n",
              "    }\n",
              "\n",
              "    .colab-df-convert:hover {\n",
              "      background-color: #E2EBFA;\n",
              "      box-shadow: 0px 1px 2px rgba(60, 64, 67, 0.3), 0px 1px 3px 1px rgba(60, 64, 67, 0.15);\n",
              "      fill: #174EA6;\n",
              "    }\n",
              "\n",
              "    [theme=dark] .colab-df-convert {\n",
              "      background-color: #3B4455;\n",
              "      fill: #D2E3FC;\n",
              "    }\n",
              "\n",
              "    [theme=dark] .colab-df-convert:hover {\n",
              "      background-color: #434B5C;\n",
              "      box-shadow: 0px 1px 3px 1px rgba(0, 0, 0, 0.15);\n",
              "      filter: drop-shadow(0px 1px 2px rgba(0, 0, 0, 0.3));\n",
              "      fill: #FFFFFF;\n",
              "    }\n",
              "  </style>\n",
              "\n",
              "      <script>\n",
              "        const buttonEl =\n",
              "          document.querySelector('#df-0b347008-6609-41a5-bec2-54ee172b12b7 button.colab-df-convert');\n",
              "        buttonEl.style.display =\n",
              "          google.colab.kernel.accessAllowed ? 'block' : 'none';\n",
              "\n",
              "        async function convertToInteractive(key) {\n",
              "          const element = document.querySelector('#df-0b347008-6609-41a5-bec2-54ee172b12b7');\n",
              "          const dataTable =\n",
              "            await google.colab.kernel.invokeFunction('convertToInteractive',\n",
              "                                                     [key], {});\n",
              "          if (!dataTable) return;\n",
              "\n",
              "          const docLinkHtml = 'Like what you see? Visit the ' +\n",
              "            '<a target=\"_blank\" href=https://colab.research.google.com/notebooks/data_table.ipynb>data table notebook</a>'\n",
              "            + ' to learn more about interactive tables.';\n",
              "          element.innerHTML = '';\n",
              "          dataTable['output_type'] = 'display_data';\n",
              "          await google.colab.output.renderOutput(dataTable, element);\n",
              "          const docLink = document.createElement('div');\n",
              "          docLink.innerHTML = docLinkHtml;\n",
              "          element.appendChild(docLink);\n",
              "        }\n",
              "      </script>\n",
              "    </div>\n",
              "  </div>\n",
              "  "
            ]
          },
          "metadata": {},
          "execution_count": 40
        }
      ]
    },
    {
      "cell_type": "code",
      "source": [
        "df.loc[df[\"função_exercida\"] == \"Machine Learning Scientist\"]"
      ],
      "metadata": {
        "colab": {
          "base_uri": "https://localhost:8080/",
          "height": 503
        },
        "id": "j_FxBkz7-Rfh",
        "outputId": "ae6a7c20-16b5-400d-9f3f-81fbeed51376"
      },
      "execution_count": 41,
      "outputs": [
        {
          "output_type": "execute_result",
          "data": {
            "text/plain": [
              "      id                  Ano_trabalho             função_exercida  \\\n",
              "1      2 1970-01-01 00:00:00.000002020  Machine Learning Scientist   \n",
              "115  116 1970-01-01 00:00:00.000002021  Machine Learning Scientist   \n",
              "126  127 1970-01-01 00:00:00.000002021  Machine Learning Scientist   \n",
              "184  185 1970-01-01 00:00:00.000002021  Machine Learning Scientist   \n",
              "224  225 1970-01-01 00:00:00.000002021  Machine Learning Scientist   \n",
              "419  420 1970-01-01 00:00:00.000002022  Machine Learning Scientist   \n",
              "420  421 1970-01-01 00:00:00.000002022  Machine Learning Scientist   \n",
              "495  496 1970-01-01 00:00:00.000002022  Machine Learning Scientist   \n",
              "\n",
              "            nivel_de_experiencia tipo_de_emprego  salario_bruto_pago  \\\n",
              "1    Nível Sênior / Especialista  Tempo integral          20688070.0   \n",
              "115     Nível Iniciante / Júnior  Tempo integral          17903138.0   \n",
              "126  Nível Sênior / Especialista  Tempo integral           9548340.0   \n",
              "184  Nível Médio / Intermediário       Freelance            954834.0   \n",
              "224  Nível Sênior / Especialista  Tempo integral          17903138.0   \n",
              "419  Nível Médio / Intermediário  Tempo integral          12731120.0   \n",
              "420  Nível Médio / Intermediário  Tempo integral           8935655.0   \n",
              "495  Nível Médio / Intermediário  Tempo integral          12174134.0   \n",
              "\n",
              "    país_funcionario pais_contratante numeros_funcionarios  \\\n",
              "1                 JP               JP          Menos de 50   \n",
              "115               US               US          Mais de 250   \n",
              "126               US               US          Menos de 50   \n",
              "184               PK               PK       entre 50 a 250   \n",
              "224               US               CA          Mais de 250   \n",
              "419               US               US          Mais de 250   \n",
              "420               US               US          Mais de 250   \n",
              "495               US               US       entre 50 a 250   \n",
              "\n",
              "    quantidade_trabalho_remotamente  \n",
              "1               Sem Trabalho Remoto  \n",
              "115               Totalmente Remoto  \n",
              "126             Parcialmente Remoto  \n",
              "184             Parcialmente Remoto  \n",
              "224               Totalmente Remoto  \n",
              "419               Totalmente Remoto  \n",
              "420               Totalmente Remoto  \n",
              "495             Parcialmente Remoto  "
            ],
            "text/html": [
              "\n",
              "  <div id=\"df-0bfd9c1d-ee6b-4a77-a5dd-200be81adc88\">\n",
              "    <div class=\"colab-df-container\">\n",
              "      <div>\n",
              "<style scoped>\n",
              "    .dataframe tbody tr th:only-of-type {\n",
              "        vertical-align: middle;\n",
              "    }\n",
              "\n",
              "    .dataframe tbody tr th {\n",
              "        vertical-align: top;\n",
              "    }\n",
              "\n",
              "    .dataframe thead th {\n",
              "        text-align: right;\n",
              "    }\n",
              "</style>\n",
              "<table border=\"1\" class=\"dataframe\">\n",
              "  <thead>\n",
              "    <tr style=\"text-align: right;\">\n",
              "      <th></th>\n",
              "      <th>id</th>\n",
              "      <th>Ano_trabalho</th>\n",
              "      <th>função_exercida</th>\n",
              "      <th>nivel_de_experiencia</th>\n",
              "      <th>tipo_de_emprego</th>\n",
              "      <th>salario_bruto_pago</th>\n",
              "      <th>país_funcionario</th>\n",
              "      <th>pais_contratante</th>\n",
              "      <th>numeros_funcionarios</th>\n",
              "      <th>quantidade_trabalho_remotamente</th>\n",
              "    </tr>\n",
              "  </thead>\n",
              "  <tbody>\n",
              "    <tr>\n",
              "      <th>1</th>\n",
              "      <td>2</td>\n",
              "      <td>1970-01-01 00:00:00.000002020</td>\n",
              "      <td>Machine Learning Scientist</td>\n",
              "      <td>Nível Sênior / Especialista</td>\n",
              "      <td>Tempo integral</td>\n",
              "      <td>20688070.0</td>\n",
              "      <td>JP</td>\n",
              "      <td>JP</td>\n",
              "      <td>Menos de 50</td>\n",
              "      <td>Sem Trabalho Remoto</td>\n",
              "    </tr>\n",
              "    <tr>\n",
              "      <th>115</th>\n",
              "      <td>116</td>\n",
              "      <td>1970-01-01 00:00:00.000002021</td>\n",
              "      <td>Machine Learning Scientist</td>\n",
              "      <td>Nível Iniciante / Júnior</td>\n",
              "      <td>Tempo integral</td>\n",
              "      <td>17903138.0</td>\n",
              "      <td>US</td>\n",
              "      <td>US</td>\n",
              "      <td>Mais de 250</td>\n",
              "      <td>Totalmente Remoto</td>\n",
              "    </tr>\n",
              "    <tr>\n",
              "      <th>126</th>\n",
              "      <td>127</td>\n",
              "      <td>1970-01-01 00:00:00.000002021</td>\n",
              "      <td>Machine Learning Scientist</td>\n",
              "      <td>Nível Sênior / Especialista</td>\n",
              "      <td>Tempo integral</td>\n",
              "      <td>9548340.0</td>\n",
              "      <td>US</td>\n",
              "      <td>US</td>\n",
              "      <td>Menos de 50</td>\n",
              "      <td>Parcialmente Remoto</td>\n",
              "    </tr>\n",
              "    <tr>\n",
              "      <th>184</th>\n",
              "      <td>185</td>\n",
              "      <td>1970-01-01 00:00:00.000002021</td>\n",
              "      <td>Machine Learning Scientist</td>\n",
              "      <td>Nível Médio / Intermediário</td>\n",
              "      <td>Freelance</td>\n",
              "      <td>954834.0</td>\n",
              "      <td>PK</td>\n",
              "      <td>PK</td>\n",
              "      <td>entre 50 a 250</td>\n",
              "      <td>Parcialmente Remoto</td>\n",
              "    </tr>\n",
              "    <tr>\n",
              "      <th>224</th>\n",
              "      <td>225</td>\n",
              "      <td>1970-01-01 00:00:00.000002021</td>\n",
              "      <td>Machine Learning Scientist</td>\n",
              "      <td>Nível Sênior / Especialista</td>\n",
              "      <td>Tempo integral</td>\n",
              "      <td>17903138.0</td>\n",
              "      <td>US</td>\n",
              "      <td>CA</td>\n",
              "      <td>Mais de 250</td>\n",
              "      <td>Totalmente Remoto</td>\n",
              "    </tr>\n",
              "    <tr>\n",
              "      <th>419</th>\n",
              "      <td>420</td>\n",
              "      <td>1970-01-01 00:00:00.000002022</td>\n",
              "      <td>Machine Learning Scientist</td>\n",
              "      <td>Nível Médio / Intermediário</td>\n",
              "      <td>Tempo integral</td>\n",
              "      <td>12731120.0</td>\n",
              "      <td>US</td>\n",
              "      <td>US</td>\n",
              "      <td>Mais de 250</td>\n",
              "      <td>Totalmente Remoto</td>\n",
              "    </tr>\n",
              "    <tr>\n",
              "      <th>420</th>\n",
              "      <td>421</td>\n",
              "      <td>1970-01-01 00:00:00.000002022</td>\n",
              "      <td>Machine Learning Scientist</td>\n",
              "      <td>Nível Médio / Intermediário</td>\n",
              "      <td>Tempo integral</td>\n",
              "      <td>8935655.0</td>\n",
              "      <td>US</td>\n",
              "      <td>US</td>\n",
              "      <td>Mais de 250</td>\n",
              "      <td>Totalmente Remoto</td>\n",
              "    </tr>\n",
              "    <tr>\n",
              "      <th>495</th>\n",
              "      <td>496</td>\n",
              "      <td>1970-01-01 00:00:00.000002022</td>\n",
              "      <td>Machine Learning Scientist</td>\n",
              "      <td>Nível Médio / Intermediário</td>\n",
              "      <td>Tempo integral</td>\n",
              "      <td>12174134.0</td>\n",
              "      <td>US</td>\n",
              "      <td>US</td>\n",
              "      <td>entre 50 a 250</td>\n",
              "      <td>Parcialmente Remoto</td>\n",
              "    </tr>\n",
              "  </tbody>\n",
              "</table>\n",
              "</div>\n",
              "      <button class=\"colab-df-convert\" onclick=\"convertToInteractive('df-0bfd9c1d-ee6b-4a77-a5dd-200be81adc88')\"\n",
              "              title=\"Convert this dataframe to an interactive table.\"\n",
              "              style=\"display:none;\">\n",
              "        \n",
              "  <svg xmlns=\"http://www.w3.org/2000/svg\" height=\"24px\"viewBox=\"0 0 24 24\"\n",
              "       width=\"24px\">\n",
              "    <path d=\"M0 0h24v24H0V0z\" fill=\"none\"/>\n",
              "    <path d=\"M18.56 5.44l.94 2.06.94-2.06 2.06-.94-2.06-.94-.94-2.06-.94 2.06-2.06.94zm-11 1L8.5 8.5l.94-2.06 2.06-.94-2.06-.94L8.5 2.5l-.94 2.06-2.06.94zm10 10l.94 2.06.94-2.06 2.06-.94-2.06-.94-.94-2.06-.94 2.06-2.06.94z\"/><path d=\"M17.41 7.96l-1.37-1.37c-.4-.4-.92-.59-1.43-.59-.52 0-1.04.2-1.43.59L10.3 9.45l-7.72 7.72c-.78.78-.78 2.05 0 2.83L4 21.41c.39.39.9.59 1.41.59.51 0 1.02-.2 1.41-.59l7.78-7.78 2.81-2.81c.8-.78.8-2.07 0-2.86zM5.41 20L4 18.59l7.72-7.72 1.47 1.35L5.41 20z\"/>\n",
              "  </svg>\n",
              "      </button>\n",
              "      \n",
              "  <style>\n",
              "    .colab-df-container {\n",
              "      display:flex;\n",
              "      flex-wrap:wrap;\n",
              "      gap: 12px;\n",
              "    }\n",
              "\n",
              "    .colab-df-convert {\n",
              "      background-color: #E8F0FE;\n",
              "      border: none;\n",
              "      border-radius: 50%;\n",
              "      cursor: pointer;\n",
              "      display: none;\n",
              "      fill: #1967D2;\n",
              "      height: 32px;\n",
              "      padding: 0 0 0 0;\n",
              "      width: 32px;\n",
              "    }\n",
              "\n",
              "    .colab-df-convert:hover {\n",
              "      background-color: #E2EBFA;\n",
              "      box-shadow: 0px 1px 2px rgba(60, 64, 67, 0.3), 0px 1px 3px 1px rgba(60, 64, 67, 0.15);\n",
              "      fill: #174EA6;\n",
              "    }\n",
              "\n",
              "    [theme=dark] .colab-df-convert {\n",
              "      background-color: #3B4455;\n",
              "      fill: #D2E3FC;\n",
              "    }\n",
              "\n",
              "    [theme=dark] .colab-df-convert:hover {\n",
              "      background-color: #434B5C;\n",
              "      box-shadow: 0px 1px 3px 1px rgba(0, 0, 0, 0.15);\n",
              "      filter: drop-shadow(0px 1px 2px rgba(0, 0, 0, 0.3));\n",
              "      fill: #FFFFFF;\n",
              "    }\n",
              "  </style>\n",
              "\n",
              "      <script>\n",
              "        const buttonEl =\n",
              "          document.querySelector('#df-0bfd9c1d-ee6b-4a77-a5dd-200be81adc88 button.colab-df-convert');\n",
              "        buttonEl.style.display =\n",
              "          google.colab.kernel.accessAllowed ? 'block' : 'none';\n",
              "\n",
              "        async function convertToInteractive(key) {\n",
              "          const element = document.querySelector('#df-0bfd9c1d-ee6b-4a77-a5dd-200be81adc88');\n",
              "          const dataTable =\n",
              "            await google.colab.kernel.invokeFunction('convertToInteractive',\n",
              "                                                     [key], {});\n",
              "          if (!dataTable) return;\n",
              "\n",
              "          const docLinkHtml = 'Like what you see? Visit the ' +\n",
              "            '<a target=\"_blank\" href=https://colab.research.google.com/notebooks/data_table.ipynb>data table notebook</a>'\n",
              "            + ' to learn more about interactive tables.';\n",
              "          element.innerHTML = '';\n",
              "          dataTable['output_type'] = 'display_data';\n",
              "          await google.colab.output.renderOutput(dataTable, element);\n",
              "          const docLink = document.createElement('div');\n",
              "          docLink.innerHTML = docLinkHtml;\n",
              "          element.appendChild(docLink);\n",
              "        }\n",
              "      </script>\n",
              "    </div>\n",
              "  </div>\n",
              "  "
            ]
          },
          "metadata": {},
          "execution_count": 41
        }
      ]
    },
    {
      "cell_type": "code",
      "source": [
        "#Quantidade de função exercida para os tipos de emprego(contratação)\n",
        "df.groupby(\"tipo_de_emprego\")[\"função_exercida\"].value_counts(ascending=False)\n"
      ],
      "metadata": {
        "colab": {
          "base_uri": "https://localhost:8080/"
        },
        "id": "JIg9SNkk_Bp-",
        "outputId": "4c8eb074-c328-4755-b3a7-b8f9d18038af"
      },
      "execution_count": 42,
      "outputs": [
        {
          "output_type": "execute_result",
          "data": {
            "text/plain": [
              "tipo_de_emprego  função_exercida                   \n",
              "Contrato         Applied Machine Learning Scientist    1\n",
              "                 Business Data Analyst                 1\n",
              "                 ML Engineer                           1\n",
              "                 Principal Data Scientist              1\n",
              "                 Staff Data Scientist                  1\n",
              "                                                      ..\n",
              "Tempo integral   Head of Machine Learning              1\n",
              "                 Lead Machine Learning Engineer        1\n",
              "                 Machine Learning Manager              1\n",
              "                 Marketing Data Analyst                1\n",
              "                 NLP Engineer                          1\n",
              "Name: função_exercida, Length: 64, dtype: int64"
            ]
          },
          "metadata": {},
          "execution_count": 42
        }
      ]
    },
    {
      "cell_type": "code",
      "source": [
        "#Visualização quantidade de função exercida para os tipos de emprego(contratação)\n",
        "import matplotlib.pyplot as plt\n",
        "df.groupby(\"tipo_de_emprego\")[\"função_exercida\"].nunique().plot.bar(title=\"total de de emprego/função exercida\")\n",
        "plt.xlabel(\"tipo de emprego\")\n",
        "plt.ylabel(\"função exercida\")"
      ],
      "metadata": {
        "colab": {
          "base_uri": "https://localhost:8080/",
          "height": 449
        },
        "id": "X5FQ-618l5-L",
        "outputId": "c5347d2c-8163-423e-cf2b-60743cae0f09"
      },
      "execution_count": 43,
      "outputs": [
        {
          "output_type": "execute_result",
          "data": {
            "text/plain": [
              "Text(0, 0.5, 'função exercida')"
            ]
          },
          "metadata": {},
          "execution_count": 43
        },
        {
          "output_type": "display_data",
          "data": {
            "text/plain": [
              "<Figure size 576x396 with 1 Axes>"
            ],
            "image/png": "[encoded data removed]"
          },
          "metadata": {}
        }
      ]
    },
    {
      "cell_type": "code",
      "source": [
        "df.groupby(\"tipo_de_emprego\")[\"salario_bruto_pago\"].mean()"
      ],
      "metadata": {
        "colab": {
          "base_uri": "https://localhost:8080/"
        },
        "id": "MSwZy3i8CZWz",
        "outputId": "c7d22bce-35b6-47fd-ab21-c2c8823d4d26"
      },
      "execution_count": 44,
      "outputs": [
        {
          "output_type": "execute_result",
          "data": {
            "text/plain": [
              "tipo_de_emprego\n",
              "Contrato          1.468654e+07\n",
              "Freelance         3.819336e+06\n",
              "Meio período      2.631403e+06\n",
              "Tempo integral    9.028598e+06\n",
              "Name: salario_bruto_pago, dtype: float64"
            ]
          },
          "metadata": {},
          "execution_count": 44
        }
      ]
    },
    {
      "cell_type": "code",
      "source": [
        "#visualização em grafico de pizza a media salarial por tipo de emprego\n",
        "df.groupby(\"tipo_de_emprego\")[\"salario_bruto_pago\"].mean().plot.pie();"
      ],
      "metadata": {
        "colab": {
          "base_uri": "https://localhost:8080/",
          "height": 330
        },
        "id": "x6UodncyEqgz",
        "outputId": "385cdc12-3320-426f-a314-1fdd1f4c40d0"
      },
      "execution_count": 45,
      "outputs": [
        {
          "output_type": "display_data",
          "data": {
            "text/plain": [
              "<Figure size 576x396 with 1 Axes>"
            ],
            "image/png": "[encoded data removed]"
          },
          "metadata": {}
        }
      ]
    },
    {
      "cell_type": "code",
      "source": [
        "#Qual país de residência do funcionário que prestaram algum serviço?\n",
        "df['país_funcionario'].value_counts(ascending=False)"
      ],
      "metadata": {
        "id": "81_mzdQvCsOY",
        "colab": {
          "base_uri": "https://localhost:8080/"
        },
        "outputId": "1645bbc0-5476-46e2-cfdd-ad421815d0bd"
      },
      "execution_count": 46,
      "outputs": [
        {
          "output_type": "execute_result",
          "data": {
            "text/plain": [
              "US    332\n",
              "GB     44\n",
              "IN     30\n",
              "CA     29\n",
              "DE     25\n",
              "FR     18\n",
              "ES     15\n",
              "GR     13\n",
              "JP      7\n",
              "PT      6\n",
              "BR      6\n",
              "PK      6\n",
              "NL      5\n",
              "PL      4\n",
              "IT      4\n",
              "RU      4\n",
              "AE      3\n",
              "AT      3\n",
              "VN      3\n",
              "TR      3\n",
              "AU      3\n",
              "RO      2\n",
              "BE      2\n",
              "SG      2\n",
              "SI      2\n",
              "DK      2\n",
              "HU      2\n",
              "NG      2\n",
              "MX      2\n",
              "BO      1\n",
              "MY      1\n",
              "TN      1\n",
              "IE      1\n",
              "DZ      1\n",
              "AR      1\n",
              "CZ      1\n",
              "JE      1\n",
              "LU      1\n",
              "PR      1\n",
              "RS      1\n",
              "EE      1\n",
              "CL      1\n",
              "HK      1\n",
              "KE      1\n",
              "MD      1\n",
              "CO      1\n",
              "IR      1\n",
              "CN      1\n",
              "MT      1\n",
              "UA      1\n",
              "IQ      1\n",
              "HN      1\n",
              "BG      1\n",
              "HR      1\n",
              "PH      1\n",
              "NZ      1\n",
              "CH      1\n",
              "Name: país_funcionario, dtype: int64"
            ]
          },
          "metadata": {},
          "execution_count": 46
        }
      ]
    },
    {
      "cell_type": "code",
      "source": [
        "#Os 20 primeiros países de residência dos funcionários que prestaram algum serviço?\n",
        "top_10 = df['país_funcionario'].value_counts()[:20]\n",
        "top_10.plot(kind='bar',figsize=(10,8))\n",
        "plt.title('Os 20 primeiros país de residência do funcionário')"
      ],
      "metadata": {
        "colab": {
          "base_uri": "https://localhost:8080/",
          "height": 521
        },
        "id": "7Q3ahgVAUtBH",
        "outputId": "d9d756af-86d9-4952-e84a-1bbf24074c34"
      },
      "execution_count": 50,
      "outputs": [
        {
          "output_type": "execute_result",
          "data": {
            "text/plain": [
              "Text(0.5, 1.0, 'Os 20 primeiros país de residência do funcionário')"
            ]
          },
          "metadata": {},
          "execution_count": 50
        },
        {
          "output_type": "display_data",
          "data": {
            "text/plain": [
              "<Figure size 720x576 with 1 Axes>"
            ],
            "image/png": "[encoded data removed]"
          },
          "metadata": {}
        }
      ]
    },
    {
      "cell_type": "code",
      "source": [
        "#Qual o país da sede ou sucursal contratante do empregador.\n",
        "df['pais_contratante'].value_counts(ascending=False)"
      ],
      "metadata": {
        "colab": {
          "base_uri": "https://localhost:8080/"
        },
        "id": "nFuQpSlNB663",
        "outputId": "33fc8281-8596-4aa8-aa64-e2aa72944045"
      },
      "execution_count": 51,
      "outputs": [
        {
          "output_type": "execute_result",
          "data": {
            "text/plain": [
              "US    355\n",
              "GB     47\n",
              "CA     30\n",
              "DE     28\n",
              "IN     24\n",
              "FR     15\n",
              "ES     14\n",
              "GR     11\n",
              "JP      6\n",
              "NL      4\n",
              "AT      4\n",
              "PT      4\n",
              "PL      4\n",
              "LU      3\n",
              "PK      3\n",
              "BR      3\n",
              "AE      3\n",
              "MX      3\n",
              "AU      3\n",
              "TR      3\n",
              "DK      3\n",
              "IT      2\n",
              "CZ      2\n",
              "SI      2\n",
              "RU      2\n",
              "CH      2\n",
              "NG      2\n",
              "CN      2\n",
              "BE      2\n",
              "VN      1\n",
              "EE      1\n",
              "AS      1\n",
              "DZ      1\n",
              "MY      1\n",
              "MD      1\n",
              "KE      1\n",
              "SG      1\n",
              "CO      1\n",
              "IR      1\n",
              "CL      1\n",
              "MT      1\n",
              "IL      1\n",
              "UA      1\n",
              "IQ      1\n",
              "RO      1\n",
              "HR      1\n",
              "NZ      1\n",
              "HU      1\n",
              "HN      1\n",
              "IE      1\n",
              "Name: pais_contratante, dtype: int64"
            ]
          },
          "metadata": {},
          "execution_count": 51
        }
      ]
    },
    {
      "cell_type": "code",
      "source": [
        "#Gráfico dos primeiros 20 país da sede ou sucursal contratante do empregador.\n",
        "\n",
        "top_10 = df['país_funcionario'].value_counts()[:20]\n",
        "top_10.plot(kind='bar',figsize=(10,8))\n",
        "plt.title('20 país da sede ou sucursal')"
      ],
      "metadata": {
        "id": "SU0Fb_kGCYlO",
        "colab": {
          "base_uri": "https://localhost:8080/",
          "height": 521
        },
        "outputId": "638c2f4c-172b-4b99-ed92-b70a0eb326ca"
      },
      "execution_count": 52,
      "outputs": [
        {
          "output_type": "execute_result",
          "data": {
            "text/plain": [
              "Text(0.5, 1.0, '20 país da sede ou sucursal')"
            ]
          },
          "metadata": {},
          "execution_count": 52
        },
        {
          "output_type": "display_data",
          "data": {
            "text/plain": [
              "<Figure size 720x576 with 1 Axes>"
            ],
            "image/png": "[encoded data removed]"
          },
          "metadata": {}
        }
      ]
    }
  ]
}